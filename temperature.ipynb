{
 "cells": [
  {
   "cell_type": "code",
   "execution_count": 1,
   "id": "3fc60b14",
   "metadata": {},
   "outputs": [],
   "source": [
    "import pandas as pd\n",
    "import numpy as np\n",
    "import matplotlib.pyplot as plt\n",
    "import seaborn as sns\n",
    "import warnings\n",
    "warnings.filterwarnings('ignore')"
   ]
  },
  {
   "cell_type": "code",
   "execution_count": 2,
   "id": "fef6048a",
   "metadata": {},
   "outputs": [],
   "source": [
    "data=pd.read_csv(r\"E:\\data trained projects\\Evaluation Projects\\assignment 3\\temperature.csv\")"
   ]
  },
  {
   "cell_type": "code",
   "execution_count": 3,
   "id": "854cf10c",
   "metadata": {},
   "outputs": [
    {
     "data": {
      "text/html": [
       "<div>\n",
       "<style scoped>\n",
       "    .dataframe tbody tr th:only-of-type {\n",
       "        vertical-align: middle;\n",
       "    }\n",
       "\n",
       "    .dataframe tbody tr th {\n",
       "        vertical-align: top;\n",
       "    }\n",
       "\n",
       "    .dataframe thead th {\n",
       "        text-align: right;\n",
       "    }\n",
       "</style>\n",
       "<table border=\"1\" class=\"dataframe\">\n",
       "  <thead>\n",
       "    <tr style=\"text-align: right;\">\n",
       "      <th></th>\n",
       "      <th>station</th>\n",
       "      <th>Date</th>\n",
       "      <th>Present_Tmax</th>\n",
       "      <th>Present_Tmin</th>\n",
       "      <th>LDAPS_RHmin</th>\n",
       "      <th>LDAPS_RHmax</th>\n",
       "      <th>LDAPS_Tmax_lapse</th>\n",
       "      <th>LDAPS_Tmin_lapse</th>\n",
       "      <th>LDAPS_WS</th>\n",
       "      <th>LDAPS_LH</th>\n",
       "      <th>...</th>\n",
       "      <th>LDAPS_PPT2</th>\n",
       "      <th>LDAPS_PPT3</th>\n",
       "      <th>LDAPS_PPT4</th>\n",
       "      <th>lat</th>\n",
       "      <th>lon</th>\n",
       "      <th>DEM</th>\n",
       "      <th>Slope</th>\n",
       "      <th>Solar radiation</th>\n",
       "      <th>Next_Tmax</th>\n",
       "      <th>Next_Tmin</th>\n",
       "    </tr>\n",
       "  </thead>\n",
       "  <tbody>\n",
       "    <tr>\n",
       "      <th>0</th>\n",
       "      <td>1.0</td>\n",
       "      <td>30-06-2013</td>\n",
       "      <td>28.7</td>\n",
       "      <td>21.4</td>\n",
       "      <td>58.255688</td>\n",
       "      <td>91.116364</td>\n",
       "      <td>28.074101</td>\n",
       "      <td>23.006936</td>\n",
       "      <td>6.818887</td>\n",
       "      <td>69.451805</td>\n",
       "      <td>...</td>\n",
       "      <td>0.0</td>\n",
       "      <td>0.0</td>\n",
       "      <td>0.0</td>\n",
       "      <td>37.6046</td>\n",
       "      <td>126.991</td>\n",
       "      <td>212.3350</td>\n",
       "      <td>2.7850</td>\n",
       "      <td>5992.895996</td>\n",
       "      <td>29.1</td>\n",
       "      <td>21.2</td>\n",
       "    </tr>\n",
       "    <tr>\n",
       "      <th>1</th>\n",
       "      <td>2.0</td>\n",
       "      <td>30-06-2013</td>\n",
       "      <td>31.9</td>\n",
       "      <td>21.6</td>\n",
       "      <td>52.263397</td>\n",
       "      <td>90.604721</td>\n",
       "      <td>29.850689</td>\n",
       "      <td>24.035009</td>\n",
       "      <td>5.691890</td>\n",
       "      <td>51.937448</td>\n",
       "      <td>...</td>\n",
       "      <td>0.0</td>\n",
       "      <td>0.0</td>\n",
       "      <td>0.0</td>\n",
       "      <td>37.6046</td>\n",
       "      <td>127.032</td>\n",
       "      <td>44.7624</td>\n",
       "      <td>0.5141</td>\n",
       "      <td>5869.312500</td>\n",
       "      <td>30.5</td>\n",
       "      <td>22.5</td>\n",
       "    </tr>\n",
       "    <tr>\n",
       "      <th>2</th>\n",
       "      <td>3.0</td>\n",
       "      <td>30-06-2013</td>\n",
       "      <td>31.6</td>\n",
       "      <td>23.3</td>\n",
       "      <td>48.690479</td>\n",
       "      <td>83.973587</td>\n",
       "      <td>30.091292</td>\n",
       "      <td>24.565633</td>\n",
       "      <td>6.138224</td>\n",
       "      <td>20.573050</td>\n",
       "      <td>...</td>\n",
       "      <td>0.0</td>\n",
       "      <td>0.0</td>\n",
       "      <td>0.0</td>\n",
       "      <td>37.5776</td>\n",
       "      <td>127.058</td>\n",
       "      <td>33.3068</td>\n",
       "      <td>0.2661</td>\n",
       "      <td>5863.555664</td>\n",
       "      <td>31.1</td>\n",
       "      <td>23.9</td>\n",
       "    </tr>\n",
       "    <tr>\n",
       "      <th>3</th>\n",
       "      <td>4.0</td>\n",
       "      <td>30-06-2013</td>\n",
       "      <td>32.0</td>\n",
       "      <td>23.4</td>\n",
       "      <td>58.239788</td>\n",
       "      <td>96.483688</td>\n",
       "      <td>29.704629</td>\n",
       "      <td>23.326177</td>\n",
       "      <td>5.650050</td>\n",
       "      <td>65.727144</td>\n",
       "      <td>...</td>\n",
       "      <td>0.0</td>\n",
       "      <td>0.0</td>\n",
       "      <td>0.0</td>\n",
       "      <td>37.6450</td>\n",
       "      <td>127.022</td>\n",
       "      <td>45.7160</td>\n",
       "      <td>2.5348</td>\n",
       "      <td>5856.964844</td>\n",
       "      <td>31.7</td>\n",
       "      <td>24.3</td>\n",
       "    </tr>\n",
       "    <tr>\n",
       "      <th>4</th>\n",
       "      <td>5.0</td>\n",
       "      <td>30-06-2013</td>\n",
       "      <td>31.4</td>\n",
       "      <td>21.9</td>\n",
       "      <td>56.174095</td>\n",
       "      <td>90.155128</td>\n",
       "      <td>29.113934</td>\n",
       "      <td>23.486480</td>\n",
       "      <td>5.735004</td>\n",
       "      <td>107.965535</td>\n",
       "      <td>...</td>\n",
       "      <td>0.0</td>\n",
       "      <td>0.0</td>\n",
       "      <td>0.0</td>\n",
       "      <td>37.5507</td>\n",
       "      <td>127.135</td>\n",
       "      <td>35.0380</td>\n",
       "      <td>0.5055</td>\n",
       "      <td>5859.552246</td>\n",
       "      <td>31.2</td>\n",
       "      <td>22.5</td>\n",
       "    </tr>\n",
       "  </tbody>\n",
       "</table>\n",
       "<p>5 rows × 25 columns</p>\n",
       "</div>"
      ],
      "text/plain": [
       "   station        Date  Present_Tmax  Present_Tmin  LDAPS_RHmin  LDAPS_RHmax  \\\n",
       "0      1.0  30-06-2013          28.7          21.4    58.255688    91.116364   \n",
       "1      2.0  30-06-2013          31.9          21.6    52.263397    90.604721   \n",
       "2      3.0  30-06-2013          31.6          23.3    48.690479    83.973587   \n",
       "3      4.0  30-06-2013          32.0          23.4    58.239788    96.483688   \n",
       "4      5.0  30-06-2013          31.4          21.9    56.174095    90.155128   \n",
       "\n",
       "   LDAPS_Tmax_lapse  LDAPS_Tmin_lapse  LDAPS_WS    LDAPS_LH  ...  LDAPS_PPT2  \\\n",
       "0         28.074101         23.006936  6.818887   69.451805  ...         0.0   \n",
       "1         29.850689         24.035009  5.691890   51.937448  ...         0.0   \n",
       "2         30.091292         24.565633  6.138224   20.573050  ...         0.0   \n",
       "3         29.704629         23.326177  5.650050   65.727144  ...         0.0   \n",
       "4         29.113934         23.486480  5.735004  107.965535  ...         0.0   \n",
       "\n",
       "   LDAPS_PPT3  LDAPS_PPT4      lat      lon       DEM   Slope  \\\n",
       "0         0.0         0.0  37.6046  126.991  212.3350  2.7850   \n",
       "1         0.0         0.0  37.6046  127.032   44.7624  0.5141   \n",
       "2         0.0         0.0  37.5776  127.058   33.3068  0.2661   \n",
       "3         0.0         0.0  37.6450  127.022   45.7160  2.5348   \n",
       "4         0.0         0.0  37.5507  127.135   35.0380  0.5055   \n",
       "\n",
       "   Solar radiation  Next_Tmax  Next_Tmin  \n",
       "0      5992.895996       29.1       21.2  \n",
       "1      5869.312500       30.5       22.5  \n",
       "2      5863.555664       31.1       23.9  \n",
       "3      5856.964844       31.7       24.3  \n",
       "4      5859.552246       31.2       22.5  \n",
       "\n",
       "[5 rows x 25 columns]"
      ]
     },
     "execution_count": 3,
     "metadata": {},
     "output_type": "execute_result"
    }
   ],
   "source": [
    "data.head()"
   ]
  },
  {
   "cell_type": "code",
   "execution_count": 4,
   "id": "cf992553",
   "metadata": {},
   "outputs": [
    {
     "data": {
      "text/html": [
       "<div>\n",
       "<style scoped>\n",
       "    .dataframe tbody tr th:only-of-type {\n",
       "        vertical-align: middle;\n",
       "    }\n",
       "\n",
       "    .dataframe tbody tr th {\n",
       "        vertical-align: top;\n",
       "    }\n",
       "\n",
       "    .dataframe thead th {\n",
       "        text-align: right;\n",
       "    }\n",
       "</style>\n",
       "<table border=\"1\" class=\"dataframe\">\n",
       "  <thead>\n",
       "    <tr style=\"text-align: right;\">\n",
       "      <th></th>\n",
       "      <th>station</th>\n",
       "      <th>Present_Tmax</th>\n",
       "      <th>Present_Tmin</th>\n",
       "      <th>LDAPS_RHmin</th>\n",
       "      <th>LDAPS_RHmax</th>\n",
       "      <th>LDAPS_Tmax_lapse</th>\n",
       "      <th>LDAPS_Tmin_lapse</th>\n",
       "      <th>LDAPS_WS</th>\n",
       "      <th>LDAPS_LH</th>\n",
       "      <th>LDAPS_CC1</th>\n",
       "      <th>...</th>\n",
       "      <th>LDAPS_PPT2</th>\n",
       "      <th>LDAPS_PPT3</th>\n",
       "      <th>LDAPS_PPT4</th>\n",
       "      <th>lat</th>\n",
       "      <th>lon</th>\n",
       "      <th>DEM</th>\n",
       "      <th>Slope</th>\n",
       "      <th>Solar radiation</th>\n",
       "      <th>Next_Tmax</th>\n",
       "      <th>Next_Tmin</th>\n",
       "    </tr>\n",
       "  </thead>\n",
       "  <tbody>\n",
       "    <tr>\n",
       "      <th>count</th>\n",
       "      <td>7750.000000</td>\n",
       "      <td>7682.000000</td>\n",
       "      <td>7682.000000</td>\n",
       "      <td>7677.000000</td>\n",
       "      <td>7677.000000</td>\n",
       "      <td>7677.000000</td>\n",
       "      <td>7677.000000</td>\n",
       "      <td>7677.000000</td>\n",
       "      <td>7677.000000</td>\n",
       "      <td>7677.000000</td>\n",
       "      <td>...</td>\n",
       "      <td>7677.000000</td>\n",
       "      <td>7677.000000</td>\n",
       "      <td>7677.000000</td>\n",
       "      <td>7752.000000</td>\n",
       "      <td>7752.000000</td>\n",
       "      <td>7752.000000</td>\n",
       "      <td>7752.000000</td>\n",
       "      <td>7752.000000</td>\n",
       "      <td>7725.000000</td>\n",
       "      <td>7725.000000</td>\n",
       "    </tr>\n",
       "    <tr>\n",
       "      <th>mean</th>\n",
       "      <td>13.000000</td>\n",
       "      <td>29.768211</td>\n",
       "      <td>23.225059</td>\n",
       "      <td>56.759372</td>\n",
       "      <td>88.374804</td>\n",
       "      <td>29.613447</td>\n",
       "      <td>23.512589</td>\n",
       "      <td>7.097875</td>\n",
       "      <td>62.505019</td>\n",
       "      <td>0.368774</td>\n",
       "      <td>...</td>\n",
       "      <td>0.485003</td>\n",
       "      <td>0.278200</td>\n",
       "      <td>0.269407</td>\n",
       "      <td>37.544722</td>\n",
       "      <td>126.991397</td>\n",
       "      <td>61.867972</td>\n",
       "      <td>1.257048</td>\n",
       "      <td>5341.502803</td>\n",
       "      <td>30.274887</td>\n",
       "      <td>22.932220</td>\n",
       "    </tr>\n",
       "    <tr>\n",
       "      <th>std</th>\n",
       "      <td>7.211568</td>\n",
       "      <td>2.969999</td>\n",
       "      <td>2.413961</td>\n",
       "      <td>14.668111</td>\n",
       "      <td>7.192004</td>\n",
       "      <td>2.947191</td>\n",
       "      <td>2.345347</td>\n",
       "      <td>2.183836</td>\n",
       "      <td>33.730589</td>\n",
       "      <td>0.262458</td>\n",
       "      <td>...</td>\n",
       "      <td>1.762807</td>\n",
       "      <td>1.161809</td>\n",
       "      <td>1.206214</td>\n",
       "      <td>0.050352</td>\n",
       "      <td>0.079435</td>\n",
       "      <td>54.279780</td>\n",
       "      <td>1.370444</td>\n",
       "      <td>429.158867</td>\n",
       "      <td>3.128010</td>\n",
       "      <td>2.487613</td>\n",
       "    </tr>\n",
       "    <tr>\n",
       "      <th>min</th>\n",
       "      <td>1.000000</td>\n",
       "      <td>20.000000</td>\n",
       "      <td>11.300000</td>\n",
       "      <td>19.794666</td>\n",
       "      <td>58.936283</td>\n",
       "      <td>17.624954</td>\n",
       "      <td>14.272646</td>\n",
       "      <td>2.882580</td>\n",
       "      <td>-13.603212</td>\n",
       "      <td>0.000000</td>\n",
       "      <td>...</td>\n",
       "      <td>0.000000</td>\n",
       "      <td>0.000000</td>\n",
       "      <td>0.000000</td>\n",
       "      <td>37.456200</td>\n",
       "      <td>126.826000</td>\n",
       "      <td>12.370000</td>\n",
       "      <td>0.098475</td>\n",
       "      <td>4329.520508</td>\n",
       "      <td>17.400000</td>\n",
       "      <td>11.300000</td>\n",
       "    </tr>\n",
       "    <tr>\n",
       "      <th>25%</th>\n",
       "      <td>7.000000</td>\n",
       "      <td>27.800000</td>\n",
       "      <td>21.700000</td>\n",
       "      <td>45.963543</td>\n",
       "      <td>84.222862</td>\n",
       "      <td>27.673499</td>\n",
       "      <td>22.089739</td>\n",
       "      <td>5.678705</td>\n",
       "      <td>37.266753</td>\n",
       "      <td>0.146654</td>\n",
       "      <td>...</td>\n",
       "      <td>0.000000</td>\n",
       "      <td>0.000000</td>\n",
       "      <td>0.000000</td>\n",
       "      <td>37.510200</td>\n",
       "      <td>126.937000</td>\n",
       "      <td>28.700000</td>\n",
       "      <td>0.271300</td>\n",
       "      <td>4999.018555</td>\n",
       "      <td>28.200000</td>\n",
       "      <td>21.300000</td>\n",
       "    </tr>\n",
       "    <tr>\n",
       "      <th>50%</th>\n",
       "      <td>13.000000</td>\n",
       "      <td>29.900000</td>\n",
       "      <td>23.400000</td>\n",
       "      <td>55.039024</td>\n",
       "      <td>89.793480</td>\n",
       "      <td>29.703426</td>\n",
       "      <td>23.760199</td>\n",
       "      <td>6.547470</td>\n",
       "      <td>56.865482</td>\n",
       "      <td>0.315697</td>\n",
       "      <td>...</td>\n",
       "      <td>0.000000</td>\n",
       "      <td>0.000000</td>\n",
       "      <td>0.000000</td>\n",
       "      <td>37.550700</td>\n",
       "      <td>126.995000</td>\n",
       "      <td>45.716000</td>\n",
       "      <td>0.618000</td>\n",
       "      <td>5436.345215</td>\n",
       "      <td>30.500000</td>\n",
       "      <td>23.100000</td>\n",
       "    </tr>\n",
       "    <tr>\n",
       "      <th>75%</th>\n",
       "      <td>19.000000</td>\n",
       "      <td>32.000000</td>\n",
       "      <td>24.900000</td>\n",
       "      <td>67.190056</td>\n",
       "      <td>93.743629</td>\n",
       "      <td>31.710450</td>\n",
       "      <td>25.152909</td>\n",
       "      <td>8.032276</td>\n",
       "      <td>84.223616</td>\n",
       "      <td>0.575489</td>\n",
       "      <td>...</td>\n",
       "      <td>0.018364</td>\n",
       "      <td>0.007896</td>\n",
       "      <td>0.000041</td>\n",
       "      <td>37.577600</td>\n",
       "      <td>127.042000</td>\n",
       "      <td>59.832400</td>\n",
       "      <td>1.767800</td>\n",
       "      <td>5728.316406</td>\n",
       "      <td>32.600000</td>\n",
       "      <td>24.600000</td>\n",
       "    </tr>\n",
       "    <tr>\n",
       "      <th>max</th>\n",
       "      <td>25.000000</td>\n",
       "      <td>37.600000</td>\n",
       "      <td>29.900000</td>\n",
       "      <td>98.524734</td>\n",
       "      <td>100.000153</td>\n",
       "      <td>38.542255</td>\n",
       "      <td>29.619342</td>\n",
       "      <td>21.857621</td>\n",
       "      <td>213.414006</td>\n",
       "      <td>0.967277</td>\n",
       "      <td>...</td>\n",
       "      <td>21.621661</td>\n",
       "      <td>15.841235</td>\n",
       "      <td>16.655469</td>\n",
       "      <td>37.645000</td>\n",
       "      <td>127.135000</td>\n",
       "      <td>212.335000</td>\n",
       "      <td>5.178230</td>\n",
       "      <td>5992.895996</td>\n",
       "      <td>38.900000</td>\n",
       "      <td>29.800000</td>\n",
       "    </tr>\n",
       "  </tbody>\n",
       "</table>\n",
       "<p>8 rows × 24 columns</p>\n",
       "</div>"
      ],
      "text/plain": [
       "           station  Present_Tmax  Present_Tmin  LDAPS_RHmin  LDAPS_RHmax  \\\n",
       "count  7750.000000   7682.000000   7682.000000  7677.000000  7677.000000   \n",
       "mean     13.000000     29.768211     23.225059    56.759372    88.374804   \n",
       "std       7.211568      2.969999      2.413961    14.668111     7.192004   \n",
       "min       1.000000     20.000000     11.300000    19.794666    58.936283   \n",
       "25%       7.000000     27.800000     21.700000    45.963543    84.222862   \n",
       "50%      13.000000     29.900000     23.400000    55.039024    89.793480   \n",
       "75%      19.000000     32.000000     24.900000    67.190056    93.743629   \n",
       "max      25.000000     37.600000     29.900000    98.524734   100.000153   \n",
       "\n",
       "       LDAPS_Tmax_lapse  LDAPS_Tmin_lapse     LDAPS_WS     LDAPS_LH  \\\n",
       "count       7677.000000       7677.000000  7677.000000  7677.000000   \n",
       "mean          29.613447         23.512589     7.097875    62.505019   \n",
       "std            2.947191          2.345347     2.183836    33.730589   \n",
       "min           17.624954         14.272646     2.882580   -13.603212   \n",
       "25%           27.673499         22.089739     5.678705    37.266753   \n",
       "50%           29.703426         23.760199     6.547470    56.865482   \n",
       "75%           31.710450         25.152909     8.032276    84.223616   \n",
       "max           38.542255         29.619342    21.857621   213.414006   \n",
       "\n",
       "         LDAPS_CC1  ...   LDAPS_PPT2   LDAPS_PPT3   LDAPS_PPT4          lat  \\\n",
       "count  7677.000000  ...  7677.000000  7677.000000  7677.000000  7752.000000   \n",
       "mean      0.368774  ...     0.485003     0.278200     0.269407    37.544722   \n",
       "std       0.262458  ...     1.762807     1.161809     1.206214     0.050352   \n",
       "min       0.000000  ...     0.000000     0.000000     0.000000    37.456200   \n",
       "25%       0.146654  ...     0.000000     0.000000     0.000000    37.510200   \n",
       "50%       0.315697  ...     0.000000     0.000000     0.000000    37.550700   \n",
       "75%       0.575489  ...     0.018364     0.007896     0.000041    37.577600   \n",
       "max       0.967277  ...    21.621661    15.841235    16.655469    37.645000   \n",
       "\n",
       "               lon          DEM        Slope  Solar radiation    Next_Tmax  \\\n",
       "count  7752.000000  7752.000000  7752.000000      7752.000000  7725.000000   \n",
       "mean    126.991397    61.867972     1.257048      5341.502803    30.274887   \n",
       "std       0.079435    54.279780     1.370444       429.158867     3.128010   \n",
       "min     126.826000    12.370000     0.098475      4329.520508    17.400000   \n",
       "25%     126.937000    28.700000     0.271300      4999.018555    28.200000   \n",
       "50%     126.995000    45.716000     0.618000      5436.345215    30.500000   \n",
       "75%     127.042000    59.832400     1.767800      5728.316406    32.600000   \n",
       "max     127.135000   212.335000     5.178230      5992.895996    38.900000   \n",
       "\n",
       "         Next_Tmin  \n",
       "count  7725.000000  \n",
       "mean     22.932220  \n",
       "std       2.487613  \n",
       "min      11.300000  \n",
       "25%      21.300000  \n",
       "50%      23.100000  \n",
       "75%      24.600000  \n",
       "max      29.800000  \n",
       "\n",
       "[8 rows x 24 columns]"
      ]
     },
     "execution_count": 4,
     "metadata": {},
     "output_type": "execute_result"
    }
   ],
   "source": [
    "data.describe()"
   ]
  },
  {
   "cell_type": "code",
   "execution_count": 5,
   "id": "b214cfa1",
   "metadata": {},
   "outputs": [
    {
     "name": "stdout",
     "output_type": "stream",
     "text": [
      "<class 'pandas.core.frame.DataFrame'>\n",
      "RangeIndex: 7752 entries, 0 to 7751\n",
      "Data columns (total 25 columns):\n",
      " #   Column            Non-Null Count  Dtype  \n",
      "---  ------            --------------  -----  \n",
      " 0   station           7750 non-null   float64\n",
      " 1   Date              7750 non-null   object \n",
      " 2   Present_Tmax      7682 non-null   float64\n",
      " 3   Present_Tmin      7682 non-null   float64\n",
      " 4   LDAPS_RHmin       7677 non-null   float64\n",
      " 5   LDAPS_RHmax       7677 non-null   float64\n",
      " 6   LDAPS_Tmax_lapse  7677 non-null   float64\n",
      " 7   LDAPS_Tmin_lapse  7677 non-null   float64\n",
      " 8   LDAPS_WS          7677 non-null   float64\n",
      " 9   LDAPS_LH          7677 non-null   float64\n",
      " 10  LDAPS_CC1         7677 non-null   float64\n",
      " 11  LDAPS_CC2         7677 non-null   float64\n",
      " 12  LDAPS_CC3         7677 non-null   float64\n",
      " 13  LDAPS_CC4         7677 non-null   float64\n",
      " 14  LDAPS_PPT1        7677 non-null   float64\n",
      " 15  LDAPS_PPT2        7677 non-null   float64\n",
      " 16  LDAPS_PPT3        7677 non-null   float64\n",
      " 17  LDAPS_PPT4        7677 non-null   float64\n",
      " 18  lat               7752 non-null   float64\n",
      " 19  lon               7752 non-null   float64\n",
      " 20  DEM               7752 non-null   float64\n",
      " 21  Slope             7752 non-null   float64\n",
      " 22  Solar radiation   7752 non-null   float64\n",
      " 23  Next_Tmax         7725 non-null   float64\n",
      " 24  Next_Tmin         7725 non-null   float64\n",
      "dtypes: float64(24), object(1)\n",
      "memory usage: 1.5+ MB\n"
     ]
    }
   ],
   "source": [
    "data.info()"
   ]
  },
  {
   "cell_type": "code",
   "execution_count": 6,
   "id": "4e7beaea",
   "metadata": {},
   "outputs": [],
   "source": [
    "data['Present_Tmax']=data['Present_Tmax'].fillna(data['Present_Tmax'].mean())"
   ]
  },
  {
   "cell_type": "code",
   "execution_count": 7,
   "id": "55f966a1",
   "metadata": {},
   "outputs": [],
   "source": [
    "data['Present_Tmin']=data['Present_Tmin'].fillna(data['Present_Tmin'].mean())"
   ]
  },
  {
   "cell_type": "code",
   "execution_count": 8,
   "id": "6bc03dbc",
   "metadata": {},
   "outputs": [],
   "source": [
    "data['LDAPS_RHmin']=data['LDAPS_RHmin'].fillna(data['LDAPS_RHmin'].mean())"
   ]
  },
  {
   "cell_type": "code",
   "execution_count": 9,
   "id": "89172322",
   "metadata": {},
   "outputs": [],
   "source": [
    "data['LDAPS_RHmax']=data['LDAPS_RHmax'].fillna(data['LDAPS_RHmax'].mean())"
   ]
  },
  {
   "cell_type": "code",
   "execution_count": 10,
   "id": "c331b50b",
   "metadata": {},
   "outputs": [],
   "source": [
    "data['LDAPS_Tmax_lapse']=data['LDAPS_Tmax_lapse'].fillna(data['LDAPS_Tmax_lapse'].mean())"
   ]
  },
  {
   "cell_type": "code",
   "execution_count": 11,
   "id": "f6641fc5",
   "metadata": {},
   "outputs": [],
   "source": [
    "data['LDAPS_Tmin_lapse']=data['LDAPS_Tmin_lapse'].fillna(data['LDAPS_Tmin_lapse'].mean())"
   ]
  },
  {
   "cell_type": "code",
   "execution_count": 12,
   "id": "6f568b6f",
   "metadata": {},
   "outputs": [],
   "source": [
    "data['LDAPS_WS']=data['LDAPS_WS'].fillna(data['LDAPS_WS'].mean())"
   ]
  },
  {
   "cell_type": "code",
   "execution_count": 13,
   "id": "cd5ad583",
   "metadata": {},
   "outputs": [],
   "source": [
    "data['LDAPS_LH']=data['LDAPS_LH'].fillna(data['LDAPS_LH'].mean())"
   ]
  },
  {
   "cell_type": "code",
   "execution_count": 14,
   "id": "95a11d0d",
   "metadata": {},
   "outputs": [],
   "source": [
    "data['LDAPS_CC1']=data['LDAPS_CC1'].fillna(data['LDAPS_CC1'].mean())"
   ]
  },
  {
   "cell_type": "code",
   "execution_count": 15,
   "id": "04550ac9",
   "metadata": {},
   "outputs": [],
   "source": [
    "data['LDAPS_CC2']=data['LDAPS_CC2'].fillna(data['LDAPS_CC2'].mean())"
   ]
  },
  {
   "cell_type": "code",
   "execution_count": 16,
   "id": "348e6d59",
   "metadata": {},
   "outputs": [],
   "source": [
    "data['LDAPS_CC3']=data['LDAPS_CC3'].fillna(data['LDAPS_CC3'].mean())"
   ]
  },
  {
   "cell_type": "code",
   "execution_count": 17,
   "id": "4c0c0c68",
   "metadata": {},
   "outputs": [],
   "source": [
    "data['LDAPS_CC4']=data['LDAPS_CC4'].fillna(data['LDAPS_CC4'].mean())"
   ]
  },
  {
   "cell_type": "code",
   "execution_count": 18,
   "id": "e7a7e862",
   "metadata": {},
   "outputs": [],
   "source": [
    "data['LDAPS_PPT1']=data['LDAPS_PPT1'].fillna(data['LDAPS_PPT1'].mean())"
   ]
  },
  {
   "cell_type": "code",
   "execution_count": 19,
   "id": "caef8169",
   "metadata": {},
   "outputs": [],
   "source": [
    "data['LDAPS_PPT2']=data['LDAPS_PPT2'].fillna(data['LDAPS_PPT2'].mean())"
   ]
  },
  {
   "cell_type": "code",
   "execution_count": 20,
   "id": "d85c5c6c",
   "metadata": {},
   "outputs": [],
   "source": [
    "data['LDAPS_PPT3']=data['LDAPS_PPT3'].fillna(data['LDAPS_PPT3'].mean())"
   ]
  },
  {
   "cell_type": "code",
   "execution_count": 21,
   "id": "44296f86",
   "metadata": {},
   "outputs": [],
   "source": [
    "data['LDAPS_PPT4']=data['LDAPS_PPT4'].fillna(data['LDAPS_PPT4'].mean())"
   ]
  },
  {
   "cell_type": "code",
   "execution_count": 22,
   "id": "ccb6ae0a",
   "metadata": {},
   "outputs": [],
   "source": [
    "data['LDAPS_PPT4']=data['LDAPS_PPT4'].fillna(data['LDAPS_PPT4'].mean())"
   ]
  },
  {
   "cell_type": "code",
   "execution_count": 23,
   "id": "fd951b4c",
   "metadata": {},
   "outputs": [],
   "source": [
    "data['Next_Tmax']=data['Next_Tmax'].fillna(data['Next_Tmax'].mean())"
   ]
  },
  {
   "cell_type": "code",
   "execution_count": 24,
   "id": "934a2007",
   "metadata": {},
   "outputs": [],
   "source": [
    "data['Next_Tmin']=data['Next_Tmin'].fillna(data['Next_Tmin'].mean())"
   ]
  },
  {
   "cell_type": "code",
   "execution_count": 25,
   "id": "4f7ecf8a",
   "metadata": {},
   "outputs": [],
   "source": [
    "data=data.drop(columns=['station','Date'],axis=1)"
   ]
  },
  {
   "cell_type": "code",
   "execution_count": 26,
   "id": "ccef29c1",
   "metadata": {},
   "outputs": [
    {
     "data": {
      "text/html": [
       "<div>\n",
       "<style scoped>\n",
       "    .dataframe tbody tr th:only-of-type {\n",
       "        vertical-align: middle;\n",
       "    }\n",
       "\n",
       "    .dataframe tbody tr th {\n",
       "        vertical-align: top;\n",
       "    }\n",
       "\n",
       "    .dataframe thead th {\n",
       "        text-align: right;\n",
       "    }\n",
       "</style>\n",
       "<table border=\"1\" class=\"dataframe\">\n",
       "  <thead>\n",
       "    <tr style=\"text-align: right;\">\n",
       "      <th></th>\n",
       "      <th>Present_Tmax</th>\n",
       "      <th>Present_Tmin</th>\n",
       "      <th>LDAPS_RHmin</th>\n",
       "      <th>LDAPS_RHmax</th>\n",
       "      <th>LDAPS_Tmax_lapse</th>\n",
       "      <th>LDAPS_Tmin_lapse</th>\n",
       "      <th>LDAPS_WS</th>\n",
       "      <th>LDAPS_LH</th>\n",
       "      <th>LDAPS_CC1</th>\n",
       "      <th>LDAPS_CC2</th>\n",
       "      <th>...</th>\n",
       "      <th>LDAPS_PPT2</th>\n",
       "      <th>LDAPS_PPT3</th>\n",
       "      <th>LDAPS_PPT4</th>\n",
       "      <th>lat</th>\n",
       "      <th>lon</th>\n",
       "      <th>DEM</th>\n",
       "      <th>Slope</th>\n",
       "      <th>Solar radiation</th>\n",
       "      <th>Next_Tmax</th>\n",
       "      <th>Next_Tmin</th>\n",
       "    </tr>\n",
       "  </thead>\n",
       "  <tbody>\n",
       "    <tr>\n",
       "      <th>0</th>\n",
       "      <td>28.7</td>\n",
       "      <td>21.4</td>\n",
       "      <td>58.255688</td>\n",
       "      <td>91.116364</td>\n",
       "      <td>28.074101</td>\n",
       "      <td>23.006936</td>\n",
       "      <td>6.818887</td>\n",
       "      <td>69.451805</td>\n",
       "      <td>0.233947</td>\n",
       "      <td>0.203896</td>\n",
       "      <td>...</td>\n",
       "      <td>0.0</td>\n",
       "      <td>0.0</td>\n",
       "      <td>0.0</td>\n",
       "      <td>37.6046</td>\n",
       "      <td>126.991</td>\n",
       "      <td>212.3350</td>\n",
       "      <td>2.7850</td>\n",
       "      <td>5992.895996</td>\n",
       "      <td>29.1</td>\n",
       "      <td>21.2</td>\n",
       "    </tr>\n",
       "    <tr>\n",
       "      <th>1</th>\n",
       "      <td>31.9</td>\n",
       "      <td>21.6</td>\n",
       "      <td>52.263397</td>\n",
       "      <td>90.604721</td>\n",
       "      <td>29.850689</td>\n",
       "      <td>24.035009</td>\n",
       "      <td>5.691890</td>\n",
       "      <td>51.937448</td>\n",
       "      <td>0.225508</td>\n",
       "      <td>0.251771</td>\n",
       "      <td>...</td>\n",
       "      <td>0.0</td>\n",
       "      <td>0.0</td>\n",
       "      <td>0.0</td>\n",
       "      <td>37.6046</td>\n",
       "      <td>127.032</td>\n",
       "      <td>44.7624</td>\n",
       "      <td>0.5141</td>\n",
       "      <td>5869.312500</td>\n",
       "      <td>30.5</td>\n",
       "      <td>22.5</td>\n",
       "    </tr>\n",
       "    <tr>\n",
       "      <th>2</th>\n",
       "      <td>31.6</td>\n",
       "      <td>23.3</td>\n",
       "      <td>48.690479</td>\n",
       "      <td>83.973587</td>\n",
       "      <td>30.091292</td>\n",
       "      <td>24.565633</td>\n",
       "      <td>6.138224</td>\n",
       "      <td>20.573050</td>\n",
       "      <td>0.209344</td>\n",
       "      <td>0.257469</td>\n",
       "      <td>...</td>\n",
       "      <td>0.0</td>\n",
       "      <td>0.0</td>\n",
       "      <td>0.0</td>\n",
       "      <td>37.5776</td>\n",
       "      <td>127.058</td>\n",
       "      <td>33.3068</td>\n",
       "      <td>0.2661</td>\n",
       "      <td>5863.555664</td>\n",
       "      <td>31.1</td>\n",
       "      <td>23.9</td>\n",
       "    </tr>\n",
       "    <tr>\n",
       "      <th>3</th>\n",
       "      <td>32.0</td>\n",
       "      <td>23.4</td>\n",
       "      <td>58.239788</td>\n",
       "      <td>96.483688</td>\n",
       "      <td>29.704629</td>\n",
       "      <td>23.326177</td>\n",
       "      <td>5.650050</td>\n",
       "      <td>65.727144</td>\n",
       "      <td>0.216372</td>\n",
       "      <td>0.226002</td>\n",
       "      <td>...</td>\n",
       "      <td>0.0</td>\n",
       "      <td>0.0</td>\n",
       "      <td>0.0</td>\n",
       "      <td>37.6450</td>\n",
       "      <td>127.022</td>\n",
       "      <td>45.7160</td>\n",
       "      <td>2.5348</td>\n",
       "      <td>5856.964844</td>\n",
       "      <td>31.7</td>\n",
       "      <td>24.3</td>\n",
       "    </tr>\n",
       "    <tr>\n",
       "      <th>4</th>\n",
       "      <td>31.4</td>\n",
       "      <td>21.9</td>\n",
       "      <td>56.174095</td>\n",
       "      <td>90.155128</td>\n",
       "      <td>29.113934</td>\n",
       "      <td>23.486480</td>\n",
       "      <td>5.735004</td>\n",
       "      <td>107.965535</td>\n",
       "      <td>0.151407</td>\n",
       "      <td>0.249995</td>\n",
       "      <td>...</td>\n",
       "      <td>0.0</td>\n",
       "      <td>0.0</td>\n",
       "      <td>0.0</td>\n",
       "      <td>37.5507</td>\n",
       "      <td>127.135</td>\n",
       "      <td>35.0380</td>\n",
       "      <td>0.5055</td>\n",
       "      <td>5859.552246</td>\n",
       "      <td>31.2</td>\n",
       "      <td>22.5</td>\n",
       "    </tr>\n",
       "  </tbody>\n",
       "</table>\n",
       "<p>5 rows × 23 columns</p>\n",
       "</div>"
      ],
      "text/plain": [
       "   Present_Tmax  Present_Tmin  LDAPS_RHmin  LDAPS_RHmax  LDAPS_Tmax_lapse  \\\n",
       "0          28.7          21.4    58.255688    91.116364         28.074101   \n",
       "1          31.9          21.6    52.263397    90.604721         29.850689   \n",
       "2          31.6          23.3    48.690479    83.973587         30.091292   \n",
       "3          32.0          23.4    58.239788    96.483688         29.704629   \n",
       "4          31.4          21.9    56.174095    90.155128         29.113934   \n",
       "\n",
       "   LDAPS_Tmin_lapse  LDAPS_WS    LDAPS_LH  LDAPS_CC1  LDAPS_CC2  ...  \\\n",
       "0         23.006936  6.818887   69.451805   0.233947   0.203896  ...   \n",
       "1         24.035009  5.691890   51.937448   0.225508   0.251771  ...   \n",
       "2         24.565633  6.138224   20.573050   0.209344   0.257469  ...   \n",
       "3         23.326177  5.650050   65.727144   0.216372   0.226002  ...   \n",
       "4         23.486480  5.735004  107.965535   0.151407   0.249995  ...   \n",
       "\n",
       "   LDAPS_PPT2  LDAPS_PPT3  LDAPS_PPT4      lat      lon       DEM   Slope  \\\n",
       "0         0.0         0.0         0.0  37.6046  126.991  212.3350  2.7850   \n",
       "1         0.0         0.0         0.0  37.6046  127.032   44.7624  0.5141   \n",
       "2         0.0         0.0         0.0  37.5776  127.058   33.3068  0.2661   \n",
       "3         0.0         0.0         0.0  37.6450  127.022   45.7160  2.5348   \n",
       "4         0.0         0.0         0.0  37.5507  127.135   35.0380  0.5055   \n",
       "\n",
       "   Solar radiation  Next_Tmax  Next_Tmin  \n",
       "0      5992.895996       29.1       21.2  \n",
       "1      5869.312500       30.5       22.5  \n",
       "2      5863.555664       31.1       23.9  \n",
       "3      5856.964844       31.7       24.3  \n",
       "4      5859.552246       31.2       22.5  \n",
       "\n",
       "[5 rows x 23 columns]"
      ]
     },
     "execution_count": 26,
     "metadata": {},
     "output_type": "execute_result"
    }
   ],
   "source": [
    "data.head()"
   ]
  },
  {
   "cell_type": "code",
   "execution_count": 27,
   "id": "75b46d73",
   "metadata": {},
   "outputs": [
    {
     "data": {
      "image/png": "[encoded data removed]",
      "text/plain": [
       "<Figure size 1440x2160 with 23 Axes>"
      ]
     },
     "metadata": {
      "needs_background": "light"
     },
     "output_type": "display_data"
    }
   ],
   "source": [
    "# checking of outliers by boxplot\n",
    "plt.figure(figsize=(20,30))\n",
    "graph=1\n",
    "for column in data:\n",
    "    if graph<=23:\n",
    "        ax=plt.subplot(8,3,graph)\n",
    "        sns.boxplot(data[column])\n",
    "        plt.xlabel(column,fontsize=15)\n",
    "    graph+=1\n",
    "plt.show()"
   ]
  },
  {
   "cell_type": "code",
   "execution_count": 28,
   "id": "38bff288",
   "metadata": {},
   "outputs": [
    {
     "data": {
      "text/plain": [
       "(7752, 23)"
      ]
     },
     "execution_count": 28,
     "metadata": {},
     "output_type": "execute_result"
    }
   ],
   "source": [
    "data.shape"
   ]
  },
  {
   "cell_type": "code",
   "execution_count": 29,
   "id": "0c405a42",
   "metadata": {},
   "outputs": [],
   "source": [
    "x=data.drop(columns=['Next_Tmax','Next_Tmin'],axis=1)\n",
    "y=data['Next_Tmax']"
   ]
  },
  {
   "cell_type": "code",
   "execution_count": 30,
   "id": "b84468da",
   "metadata": {},
   "outputs": [],
   "source": [
    "from sklearn.preprocessing import StandardScaler"
   ]
  },
  {
   "cell_type": "code",
   "execution_count": 31,
   "id": "add5e673",
   "metadata": {},
   "outputs": [],
   "source": [
    "scaler=StandardScaler()"
   ]
  },
  {
   "cell_type": "code",
   "execution_count": 32,
   "id": "cca9528c",
   "metadata": {},
   "outputs": [],
   "source": [
    "x=scaler.fit_transform(x)"
   ]
  },
  {
   "cell_type": "code",
   "execution_count": 33,
   "id": "d1e73fee",
   "metadata": {},
   "outputs": [
    {
     "data": {
      "text/html": [
       "<div>\n",
       "<style scoped>\n",
       "    .dataframe tbody tr th:only-of-type {\n",
       "        vertical-align: middle;\n",
       "    }\n",
       "\n",
       "    .dataframe tbody tr th {\n",
       "        vertical-align: top;\n",
       "    }\n",
       "\n",
       "    .dataframe thead th {\n",
       "        text-align: right;\n",
       "    }\n",
       "</style>\n",
       "<table border=\"1\" class=\"dataframe\">\n",
       "  <thead>\n",
       "    <tr style=\"text-align: right;\">\n",
       "      <th></th>\n",
       "      <th>Present_Tmax</th>\n",
       "      <th>Present_Tmin</th>\n",
       "      <th>LDAPS_RHmin</th>\n",
       "      <th>LDAPS_RHmax</th>\n",
       "      <th>LDAPS_Tmax_lapse</th>\n",
       "      <th>LDAPS_Tmin_lapse</th>\n",
       "      <th>LDAPS_WS</th>\n",
       "      <th>LDAPS_LH</th>\n",
       "      <th>LDAPS_CC1</th>\n",
       "      <th>LDAPS_CC2</th>\n",
       "      <th>...</th>\n",
       "      <th>LDAPS_PPT2</th>\n",
       "      <th>LDAPS_PPT3</th>\n",
       "      <th>LDAPS_PPT4</th>\n",
       "      <th>lat</th>\n",
       "      <th>lon</th>\n",
       "      <th>DEM</th>\n",
       "      <th>Slope</th>\n",
       "      <th>Solar radiation</th>\n",
       "      <th>Next_Tmax</th>\n",
       "      <th>Next_Tmin</th>\n",
       "    </tr>\n",
       "  </thead>\n",
       "  <tbody>\n",
       "    <tr>\n",
       "      <th>count</th>\n",
       "      <td>7752.000000</td>\n",
       "      <td>7752.000000</td>\n",
       "      <td>7752.000000</td>\n",
       "      <td>7752.000000</td>\n",
       "      <td>7752.000000</td>\n",
       "      <td>7752.000000</td>\n",
       "      <td>7752.000000</td>\n",
       "      <td>7752.000000</td>\n",
       "      <td>7752.000000</td>\n",
       "      <td>7752.000000</td>\n",
       "      <td>...</td>\n",
       "      <td>7752.000000</td>\n",
       "      <td>7752.000000</td>\n",
       "      <td>7752.000000</td>\n",
       "      <td>7752.000000</td>\n",
       "      <td>7752.000000</td>\n",
       "      <td>7752.000000</td>\n",
       "      <td>7752.000000</td>\n",
       "      <td>7752.000000</td>\n",
       "      <td>7752.000000</td>\n",
       "      <td>7752.000000</td>\n",
       "    </tr>\n",
       "    <tr>\n",
       "      <th>mean</th>\n",
       "      <td>29.768211</td>\n",
       "      <td>23.225059</td>\n",
       "      <td>56.759372</td>\n",
       "      <td>88.374804</td>\n",
       "      <td>29.613447</td>\n",
       "      <td>23.512589</td>\n",
       "      <td>7.097875</td>\n",
       "      <td>62.505019</td>\n",
       "      <td>0.368774</td>\n",
       "      <td>0.356080</td>\n",
       "      <td>...</td>\n",
       "      <td>0.485003</td>\n",
       "      <td>0.278200</td>\n",
       "      <td>0.269407</td>\n",
       "      <td>37.544722</td>\n",
       "      <td>126.991397</td>\n",
       "      <td>61.867972</td>\n",
       "      <td>1.257048</td>\n",
       "      <td>5341.502803</td>\n",
       "      <td>30.274887</td>\n",
       "      <td>22.932220</td>\n",
       "    </tr>\n",
       "    <tr>\n",
       "      <th>std</th>\n",
       "      <td>2.956557</td>\n",
       "      <td>2.403036</td>\n",
       "      <td>14.596973</td>\n",
       "      <td>7.157124</td>\n",
       "      <td>2.932898</td>\n",
       "      <td>2.333973</td>\n",
       "      <td>2.173245</td>\n",
       "      <td>33.567001</td>\n",
       "      <td>0.261185</td>\n",
       "      <td>0.256810</td>\n",
       "      <td>...</td>\n",
       "      <td>1.754258</td>\n",
       "      <td>1.156174</td>\n",
       "      <td>1.200364</td>\n",
       "      <td>0.050352</td>\n",
       "      <td>0.079435</td>\n",
       "      <td>54.279780</td>\n",
       "      <td>1.370444</td>\n",
       "      <td>429.158867</td>\n",
       "      <td>3.122557</td>\n",
       "      <td>2.483276</td>\n",
       "    </tr>\n",
       "    <tr>\n",
       "      <th>min</th>\n",
       "      <td>20.000000</td>\n",
       "      <td>11.300000</td>\n",
       "      <td>19.794666</td>\n",
       "      <td>58.936283</td>\n",
       "      <td>17.624954</td>\n",
       "      <td>14.272646</td>\n",
       "      <td>2.882580</td>\n",
       "      <td>-13.603212</td>\n",
       "      <td>0.000000</td>\n",
       "      <td>0.000000</td>\n",
       "      <td>...</td>\n",
       "      <td>0.000000</td>\n",
       "      <td>0.000000</td>\n",
       "      <td>0.000000</td>\n",
       "      <td>37.456200</td>\n",
       "      <td>126.826000</td>\n",
       "      <td>12.370000</td>\n",
       "      <td>0.098475</td>\n",
       "      <td>4329.520508</td>\n",
       "      <td>17.400000</td>\n",
       "      <td>11.300000</td>\n",
       "    </tr>\n",
       "    <tr>\n",
       "      <th>25%</th>\n",
       "      <td>27.800000</td>\n",
       "      <td>21.700000</td>\n",
       "      <td>46.046162</td>\n",
       "      <td>84.316923</td>\n",
       "      <td>27.693091</td>\n",
       "      <td>22.114651</td>\n",
       "      <td>5.686487</td>\n",
       "      <td>37.532764</td>\n",
       "      <td>0.148321</td>\n",
       "      <td>0.142328</td>\n",
       "      <td>...</td>\n",
       "      <td>0.000000</td>\n",
       "      <td>0.000000</td>\n",
       "      <td>0.000000</td>\n",
       "      <td>37.510200</td>\n",
       "      <td>126.937000</td>\n",
       "      <td>28.700000</td>\n",
       "      <td>0.271300</td>\n",
       "      <td>4999.018555</td>\n",
       "      <td>28.200000</td>\n",
       "      <td>21.400000</td>\n",
       "    </tr>\n",
       "    <tr>\n",
       "      <th>50%</th>\n",
       "      <td>29.900000</td>\n",
       "      <td>23.400000</td>\n",
       "      <td>55.313244</td>\n",
       "      <td>89.699505</td>\n",
       "      <td>29.662273</td>\n",
       "      <td>23.735942</td>\n",
       "      <td>6.563068</td>\n",
       "      <td>57.310630</td>\n",
       "      <td>0.320110</td>\n",
       "      <td>0.315667</td>\n",
       "      <td>...</td>\n",
       "      <td>0.000000</td>\n",
       "      <td>0.000000</td>\n",
       "      <td>0.000000</td>\n",
       "      <td>37.550700</td>\n",
       "      <td>126.995000</td>\n",
       "      <td>45.716000</td>\n",
       "      <td>0.618000</td>\n",
       "      <td>5436.345215</td>\n",
       "      <td>30.500000</td>\n",
       "      <td>23.100000</td>\n",
       "    </tr>\n",
       "    <tr>\n",
       "      <th>75%</th>\n",
       "      <td>32.000000</td>\n",
       "      <td>24.900000</td>\n",
       "      <td>67.038254</td>\n",
       "      <td>93.704500</td>\n",
       "      <td>31.683819</td>\n",
       "      <td>25.134000</td>\n",
       "      <td>8.007471</td>\n",
       "      <td>83.904586</td>\n",
       "      <td>0.571696</td>\n",
       "      <td>0.554963</td>\n",
       "      <td>...</td>\n",
       "      <td>0.024276</td>\n",
       "      <td>0.009697</td>\n",
       "      <td>0.000693</td>\n",
       "      <td>37.577600</td>\n",
       "      <td>127.042000</td>\n",
       "      <td>59.832400</td>\n",
       "      <td>1.767800</td>\n",
       "      <td>5728.316406</td>\n",
       "      <td>32.600000</td>\n",
       "      <td>24.600000</td>\n",
       "    </tr>\n",
       "    <tr>\n",
       "      <th>max</th>\n",
       "      <td>37.600000</td>\n",
       "      <td>29.900000</td>\n",
       "      <td>98.524734</td>\n",
       "      <td>100.000153</td>\n",
       "      <td>38.542255</td>\n",
       "      <td>29.619342</td>\n",
       "      <td>21.857621</td>\n",
       "      <td>213.414006</td>\n",
       "      <td>0.967277</td>\n",
       "      <td>0.968353</td>\n",
       "      <td>...</td>\n",
       "      <td>21.621661</td>\n",
       "      <td>15.841235</td>\n",
       "      <td>16.655469</td>\n",
       "      <td>37.645000</td>\n",
       "      <td>127.135000</td>\n",
       "      <td>212.335000</td>\n",
       "      <td>5.178230</td>\n",
       "      <td>5992.895996</td>\n",
       "      <td>38.900000</td>\n",
       "      <td>29.800000</td>\n",
       "    </tr>\n",
       "  </tbody>\n",
       "</table>\n",
       "<p>8 rows × 23 columns</p>\n",
       "</div>"
      ],
      "text/plain": [
       "       Present_Tmax  Present_Tmin  LDAPS_RHmin  LDAPS_RHmax  LDAPS_Tmax_lapse  \\\n",
       "count   7752.000000   7752.000000  7752.000000  7752.000000       7752.000000   \n",
       "mean      29.768211     23.225059    56.759372    88.374804         29.613447   \n",
       "std        2.956557      2.403036    14.596973     7.157124          2.932898   \n",
       "min       20.000000     11.300000    19.794666    58.936283         17.624954   \n",
       "25%       27.800000     21.700000    46.046162    84.316923         27.693091   \n",
       "50%       29.900000     23.400000    55.313244    89.699505         29.662273   \n",
       "75%       32.000000     24.900000    67.038254    93.704500         31.683819   \n",
       "max       37.600000     29.900000    98.524734   100.000153         38.542255   \n",
       "\n",
       "       LDAPS_Tmin_lapse     LDAPS_WS     LDAPS_LH    LDAPS_CC1    LDAPS_CC2  \\\n",
       "count       7752.000000  7752.000000  7752.000000  7752.000000  7752.000000   \n",
       "mean          23.512589     7.097875    62.505019     0.368774     0.356080   \n",
       "std            2.333973     2.173245    33.567001     0.261185     0.256810   \n",
       "min           14.272646     2.882580   -13.603212     0.000000     0.000000   \n",
       "25%           22.114651     5.686487    37.532764     0.148321     0.142328   \n",
       "50%           23.735942     6.563068    57.310630     0.320110     0.315667   \n",
       "75%           25.134000     8.007471    83.904586     0.571696     0.554963   \n",
       "max           29.619342    21.857621   213.414006     0.967277     0.968353   \n",
       "\n",
       "       ...   LDAPS_PPT2   LDAPS_PPT3   LDAPS_PPT4          lat          lon  \\\n",
       "count  ...  7752.000000  7752.000000  7752.000000  7752.000000  7752.000000   \n",
       "mean   ...     0.485003     0.278200     0.269407    37.544722   126.991397   \n",
       "std    ...     1.754258     1.156174     1.200364     0.050352     0.079435   \n",
       "min    ...     0.000000     0.000000     0.000000    37.456200   126.826000   \n",
       "25%    ...     0.000000     0.000000     0.000000    37.510200   126.937000   \n",
       "50%    ...     0.000000     0.000000     0.000000    37.550700   126.995000   \n",
       "75%    ...     0.024276     0.009697     0.000693    37.577600   127.042000   \n",
       "max    ...    21.621661    15.841235    16.655469    37.645000   127.135000   \n",
       "\n",
       "               DEM        Slope  Solar radiation    Next_Tmax    Next_Tmin  \n",
       "count  7752.000000  7752.000000      7752.000000  7752.000000  7752.000000  \n",
       "mean     61.867972     1.257048      5341.502803    30.274887    22.932220  \n",
       "std      54.279780     1.370444       429.158867     3.122557     2.483276  \n",
       "min      12.370000     0.098475      4329.520508    17.400000    11.300000  \n",
       "25%      28.700000     0.271300      4999.018555    28.200000    21.400000  \n",
       "50%      45.716000     0.618000      5436.345215    30.500000    23.100000  \n",
       "75%      59.832400     1.767800      5728.316406    32.600000    24.600000  \n",
       "max     212.335000     5.178230      5992.895996    38.900000    29.800000  \n",
       "\n",
       "[8 rows x 23 columns]"
      ]
     },
     "execution_count": 33,
     "metadata": {},
     "output_type": "execute_result"
    }
   ],
   "source": [
    "data.describe()"
   ]
  },
  {
   "cell_type": "code",
   "execution_count": 34,
   "id": "a8cec0d0",
   "metadata": {},
   "outputs": [],
   "source": [
    "# removing of outlier using iqr method\n",
    "Q1=data['Present_Tmax'].quantile(.25)\n",
    "Q3=data['Present_Tmax'].quantile(.75)\n",
    "IQR=Q3-Q1\n",
    "lower_limit=Q1-1.5*IQR\n",
    "upper_limit=Q3+1.5*IQR"
   ]
  },
  {
   "cell_type": "code",
   "execution_count": 35,
   "id": "f11af534",
   "metadata": {},
   "outputs": [],
   "source": [
    "data['Present_Tmax']=np.where(data['Present_Tmax']>upper_limit,upper_limit,\n",
    "                              np.where(data['Present_Tmax']<lower_limit,\n",
    "                                       lower_limit,\n",
    "                              data['Present_Tmax'])\n",
    "                             )               "
   ]
  },
  {
   "cell_type": "code",
   "execution_count": 36,
   "id": "2059e62d",
   "metadata": {},
   "outputs": [],
   "source": [
    "Q1=data['Present_Tmin'].quantile(.25)\n",
    "Q3=data['Present_Tmin'].quantile(.75)\n",
    "IQR=Q3-Q1\n",
    "lower_limit=Q1-1.5*IQR\n",
    "upper_limit=Q3+1.5*IQR"
   ]
  },
  {
   "cell_type": "code",
   "execution_count": 37,
   "id": "4416cb55",
   "metadata": {},
   "outputs": [],
   "source": [
    "data['Present_Tmin']=np.where(data['Present_Tmin']>upper_limit,upper_limit,\n",
    "                              np.where(data['Present_Tmin']<lower_limit,\n",
    "                                       lower_limit,\n",
    "                              data['Present_Tmin'])\n",
    "                             )    "
   ]
  },
  {
   "cell_type": "code",
   "execution_count": 38,
   "id": "57785781",
   "metadata": {},
   "outputs": [],
   "source": [
    "Q1=data['LDAPS_RHmax'].quantile(.25)\n",
    "Q3=data['LDAPS_RHmax'].quantile(.75)\n",
    "IQR=Q3-Q1\n",
    "lower_limit=Q1-1.5*IQR\n",
    "upper_limit=Q3+1.5*IQR"
   ]
  },
  {
   "cell_type": "code",
   "execution_count": 39,
   "id": "c60a343c",
   "metadata": {},
   "outputs": [],
   "source": [
    "data['LDAPS_RHmax']=np.where(data['LDAPS_RHmax']>upper_limit,upper_limit,\n",
    "                              np.where(data['LDAPS_RHmax']<lower_limit,\n",
    "                                       lower_limit,\n",
    "                              data['LDAPS_RHmax'])\n",
    "                             )"
   ]
  },
  {
   "cell_type": "code",
   "execution_count": 40,
   "id": "4f21ea40",
   "metadata": {},
   "outputs": [],
   "source": [
    "Q1=data['LDAPS_Tmax_lapse'].quantile(.25)\n",
    "Q3=data['LDAPS_Tmax_lapse'].quantile(.75)\n",
    "IQR=Q3-Q1\n",
    "lower_limit=Q1-1.5*IQR\n",
    "upper_limit=Q3+1.5*IQR"
   ]
  },
  {
   "cell_type": "code",
   "execution_count": 41,
   "id": "f81692cc",
   "metadata": {},
   "outputs": [],
   "source": [
    "data['LDAPS_Tmax_lapse']=np.where(data['LDAPS_Tmax_lapse']>upper_limit,upper_limit,\n",
    "                              np.where(data['LDAPS_Tmax_lapse']<lower_limit,\n",
    "                                       lower_limit,\n",
    "                              data['LDAPS_Tmax_lapse'])\n",
    "                             )"
   ]
  },
  {
   "cell_type": "code",
   "execution_count": 42,
   "id": "e19955d7",
   "metadata": {},
   "outputs": [],
   "source": [
    "Q1=data['LDAPS_Tmin_lapse'].quantile(.25)\n",
    "Q3=data['LDAPS_Tmin_lapse'].quantile(.75)\n",
    "IQR=Q3-Q1\n",
    "lower_limit=Q1-1.5*IQR\n",
    "upper_limit=Q3+1.5*IQR"
   ]
  },
  {
   "cell_type": "code",
   "execution_count": 43,
   "id": "f703b171",
   "metadata": {},
   "outputs": [],
   "source": [
    "data['LDAPS_Tmin_lapse']=np.where(data['LDAPS_Tmin_lapse']>upper_limit,upper_limit,\n",
    "                              np.where(data['LDAPS_Tmin_lapse']<lower_limit,\n",
    "                                       lower_limit,\n",
    "                              data['LDAPS_Tmin_lapse'])\n",
    "                             )"
   ]
  },
  {
   "cell_type": "code",
   "execution_count": 44,
   "id": "1034588c",
   "metadata": {},
   "outputs": [],
   "source": [
    "Q1=data['LDAPS_WS'].quantile(.25)\n",
    "Q3=data['LDAPS_WS'].quantile(.75)\n",
    "IQR=Q3-Q1\n",
    "lower_limit=Q1-1.5*IQR\n",
    "upper_limit=Q3+1.5*IQR"
   ]
  },
  {
   "cell_type": "code",
   "execution_count": 45,
   "id": "1d7e6170",
   "metadata": {},
   "outputs": [],
   "source": [
    "data['LDAPS_WS']=np.where(data['LDAPS_WS']>upper_limit,upper_limit,\n",
    "                              np.where(data['LDAPS_WS']<lower_limit,\n",
    "                                       lower_limit,\n",
    "                              data['LDAPS_WS'])\n",
    "                             )"
   ]
  },
  {
   "cell_type": "code",
   "execution_count": 46,
   "id": "ae5cf5e2",
   "metadata": {},
   "outputs": [],
   "source": [
    "Q1=data['LDAPS_LH'].quantile(.25)\n",
    "Q3=data['LDAPS_LH'].quantile(.75)\n",
    "IQR=Q3-Q1\n",
    "lower_limit=Q1-1.5*IQR\n",
    "upper_limit=Q3+1.5*IQR"
   ]
  },
  {
   "cell_type": "code",
   "execution_count": 47,
   "id": "dc9a70ac",
   "metadata": {},
   "outputs": [],
   "source": [
    "data['LDAPS_LH']=np.where(data['LDAPS_LH']>upper_limit,upper_limit,\n",
    "                              np.where(data['LDAPS_LH']<lower_limit,\n",
    "                                       lower_limit,\n",
    "                              data['LDAPS_LH'])\n",
    "                             )"
   ]
  },
  {
   "cell_type": "code",
   "execution_count": 48,
   "id": "61de7874",
   "metadata": {},
   "outputs": [],
   "source": [
    "Q1=data['LDAPS_PPT1'].quantile(.25)\n",
    "Q3=data['LDAPS_PPT1'].quantile(.75)\n",
    "IQR=Q3-Q1\n",
    "lower_limit=Q1-1.5*IQR\n",
    "upper_limit=Q3+1.5*IQR"
   ]
  },
  {
   "cell_type": "code",
   "execution_count": 49,
   "id": "ca142977",
   "metadata": {},
   "outputs": [],
   "source": [
    "data['LDAPS_PPT1']=np.where(data['LDAPS_PPT1']>upper_limit,upper_limit,\n",
    "                              np.where(data['LDAPS_PPT1']<lower_limit,\n",
    "                                       lower_limit,\n",
    "                              data['LDAPS_PPT1'])\n",
    "                             )"
   ]
  },
  {
   "cell_type": "code",
   "execution_count": 50,
   "id": "e4789ac8",
   "metadata": {},
   "outputs": [],
   "source": [
    "Q1=data['LDAPS_PPT2'].quantile(.25)\n",
    "Q3=data['LDAPS_PPT2'].quantile(.75)\n",
    "IQR=Q3-Q1\n",
    "lower_limit=Q1-1.5*IQR\n",
    "upper_limit=Q3+1.5*IQR"
   ]
  },
  {
   "cell_type": "code",
   "execution_count": 51,
   "id": "54684a0d",
   "metadata": {},
   "outputs": [],
   "source": [
    "data['LDAPS_PPT2']=np.where(data['LDAPS_PPT2']>upper_limit,upper_limit,\n",
    "                              np.where(data['LDAPS_PPT2']<lower_limit,\n",
    "                                       lower_limit,\n",
    "                              data['LDAPS_PPT2'])\n",
    "                             )"
   ]
  },
  {
   "cell_type": "code",
   "execution_count": 52,
   "id": "947417e1",
   "metadata": {},
   "outputs": [],
   "source": [
    "Q1=data['LDAPS_PPT3'].quantile(.25)\n",
    "Q3=data['LDAPS_PPT3'].quantile(.75)\n",
    "IQR=Q3-Q1\n",
    "lower_limit=Q1-1.5*IQR\n",
    "upper_limit=Q3+1.5*IQR"
   ]
  },
  {
   "cell_type": "code",
   "execution_count": 53,
   "id": "a7c634c6",
   "metadata": {},
   "outputs": [],
   "source": [
    "data['LDAPS_PPT3']=np.where(data['LDAPS_PPT3']>upper_limit,upper_limit,\n",
    "                              np.where(data['LDAPS_PPT3']<lower_limit,\n",
    "                                       lower_limit,\n",
    "                              data['LDAPS_PPT3'])\n",
    "                             )"
   ]
  },
  {
   "cell_type": "code",
   "execution_count": 54,
   "id": "d8f1a7c5",
   "metadata": {},
   "outputs": [],
   "source": [
    "Q1=data['LDAPS_PPT4'].quantile(.25)\n",
    "Q3=data['LDAPS_PPT4'].quantile(.75)\n",
    "IQR=Q3-Q1\n",
    "lower_limit=Q1-1.5*IQR\n",
    "upper_limit=Q3+1.5*IQR"
   ]
  },
  {
   "cell_type": "code",
   "execution_count": 55,
   "id": "c8028101",
   "metadata": {},
   "outputs": [],
   "source": [
    "data['LDAPS_PPT4']=np.where(data['LDAPS_PPT4']>upper_limit,upper_limit,\n",
    "                              np.where(data['LDAPS_PPT4']<lower_limit,\n",
    "                                       lower_limit,\n",
    "                              data['LDAPS_PPT4'])\n",
    "                             )"
   ]
  },
  {
   "cell_type": "code",
   "execution_count": 56,
   "id": "b4380dc4",
   "metadata": {},
   "outputs": [],
   "source": [
    "Q1=data['DEM'].quantile(.25)\n",
    "Q3=data['DEM'].quantile(.75)\n",
    "IQR=Q3-Q1\n",
    "lower_limit=Q1-1.5*IQR\n",
    "upper_limit=Q3+1.5*IQR"
   ]
  },
  {
   "cell_type": "code",
   "execution_count": 57,
   "id": "e08230fd",
   "metadata": {},
   "outputs": [],
   "source": [
    "data['DEM']=np.where(data['DEM']>upper_limit,upper_limit,\n",
    "                              np.where(data['DEM']<lower_limit,\n",
    "                                       lower_limit,\n",
    "                              data['DEM'])\n",
    "                             )"
   ]
  },
  {
   "cell_type": "code",
   "execution_count": 58,
   "id": "64cfa352",
   "metadata": {},
   "outputs": [],
   "source": [
    "Q1=data['Slope'].quantile(.25)\n",
    "Q3=data['Slope'].quantile(.75)\n",
    "IQR=Q3-Q1\n",
    "lower_limit=Q1-1.5*IQR\n",
    "upper_limit=Q3+1.5*IQR"
   ]
  },
  {
   "cell_type": "code",
   "execution_count": 59,
   "id": "7d4f5941",
   "metadata": {},
   "outputs": [],
   "source": [
    "data['Slope']=np.where(data['Slope']>upper_limit,upper_limit,\n",
    "                              np.where(data['Slope']<lower_limit,\n",
    "                                       lower_limit,\n",
    "                              data['Slope'])\n",
    "                             )"
   ]
  },
  {
   "cell_type": "code",
   "execution_count": 60,
   "id": "2739ab9a",
   "metadata": {},
   "outputs": [],
   "source": [
    "Q1=data['Next_Tmax'].quantile(.25)\n",
    "Q3=data['Next_Tmax'].quantile(.75)\n",
    "IQR=Q3-Q1\n",
    "lower_limit=Q1-1.5*IQR\n",
    "upper_limit=Q3+1.5*IQR"
   ]
  },
  {
   "cell_type": "code",
   "execution_count": 61,
   "id": "23cf93e9",
   "metadata": {},
   "outputs": [],
   "source": [
    "data['Next_Tmax']=np.where(data['Next_Tmax']>upper_limit,upper_limit,\n",
    "                              np.where(data['Next_Tmax']<lower_limit,\n",
    "                                       lower_limit,\n",
    "                              data['Next_Tmax'])\n",
    "                             )"
   ]
  },
  {
   "cell_type": "code",
   "execution_count": 62,
   "id": "0a1a41e9",
   "metadata": {},
   "outputs": [],
   "source": [
    "Q1=data['Next_Tmin'].quantile(.25)\n",
    "Q3=data['Next_Tmin'].quantile(.75)\n",
    "IQR=Q3-Q1\n",
    "lower_limit=Q1-1.5*IQR\n",
    "upper_limit=Q3+1.5*IQR"
   ]
  },
  {
   "cell_type": "code",
   "execution_count": 63,
   "id": "279551d3",
   "metadata": {},
   "outputs": [],
   "source": [
    "data['Next_Tmin']=np.where(data['Next_Tmin']>upper_limit,upper_limit,\n",
    "                              np.where(data['Next_Tmin']<lower_limit,\n",
    "                                       lower_limit,\n",
    "                              data['Next_Tmin'])\n",
    "                             )"
   ]
  },
  {
   "cell_type": "code",
   "execution_count": 64,
   "id": "93e3163d",
   "metadata": {},
   "outputs": [
    {
     "data": {
      "image/png": "[encoded data removed]",
      "text/plain": [
       "<Figure size 1440x2160 with 23 Axes>"
      ]
     },
     "metadata": {
      "needs_background": "light"
     },
     "output_type": "display_data"
    }
   ],
   "source": [
    "# checking after removing outliers by boxplot\n",
    "plt.figure(figsize=(20,30))\n",
    "graph=1\n",
    "for column in data:\n",
    "    if graph<=23:\n",
    "        ax=plt.subplot(8,3,graph)\n",
    "        sns.boxplot(data[column])\n",
    "        plt.xlabel(column,fontsize=15)\n",
    "    graph+=1\n",
    "plt.show()"
   ]
  },
  {
   "cell_type": "code",
   "execution_count": 65,
   "id": "03c319e0",
   "metadata": {},
   "outputs": [],
   "source": [
    "from sklearn.model_selection import train_test_split,cross_val_score,GridSearchCV"
   ]
  },
  {
   "cell_type": "code",
   "execution_count": 66,
   "id": "3914202b",
   "metadata": {},
   "outputs": [],
   "source": [
    "x_train,x_test,y_train,y_test=train_test_split(x,y,test_size=0.30,random_state=55)"
   ]
  },
  {
   "cell_type": "code",
   "execution_count": 67,
   "id": "93272229",
   "metadata": {},
   "outputs": [],
   "source": [
    "from sklearn.linear_model import LinearRegression"
   ]
  },
  {
   "cell_type": "code",
   "execution_count": 68,
   "id": "09bbad52",
   "metadata": {},
   "outputs": [],
   "source": [
    "lr=LinearRegression()"
   ]
  },
  {
   "cell_type": "code",
   "execution_count": 69,
   "id": "e9e1236d",
   "metadata": {},
   "outputs": [
    {
     "data": {
      "text/plain": [
       "LinearRegression()"
      ]
     },
     "execution_count": 69,
     "metadata": {},
     "output_type": "execute_result"
    }
   ],
   "source": [
    "lr.fit(x_train,y_train)"
   ]
  },
  {
   "cell_type": "code",
   "execution_count": 70,
   "id": "406af394",
   "metadata": {},
   "outputs": [],
   "source": [
    "lr_pred=lr.predict(x_test)"
   ]
  },
  {
   "cell_type": "code",
   "execution_count": 71,
   "id": "171743bd",
   "metadata": {},
   "outputs": [],
   "source": [
    "# evaluating of metrics\n",
    "from sklearn.metrics import r2_score,mean_absolute_error,mean_squared_error"
   ]
  },
  {
   "cell_type": "code",
   "execution_count": 72,
   "id": "14e0650a",
   "metadata": {},
   "outputs": [
    {
     "data": {
      "text/plain": [
       "1.169002947775942"
      ]
     },
     "execution_count": 72,
     "metadata": {},
     "output_type": "execute_result"
    }
   ],
   "source": [
    "mean_absolute_error(y_test,lr_pred)"
   ]
  },
  {
   "cell_type": "code",
   "execution_count": 73,
   "id": "fd76cafb",
   "metadata": {},
   "outputs": [
    {
     "data": {
      "text/plain": [
       "2.371216335497708"
      ]
     },
     "execution_count": 73,
     "metadata": {},
     "output_type": "execute_result"
    }
   ],
   "source": [
    "mean_squared_error(y_test,lr_pred)"
   ]
  },
  {
   "cell_type": "code",
   "execution_count": 74,
   "id": "e277a962",
   "metadata": {},
   "outputs": [
    {
     "data": {
      "text/plain": [
       "0.7561851258037613"
      ]
     },
     "execution_count": 74,
     "metadata": {},
     "output_type": "execute_result"
    }
   ],
   "source": [
    "r2_score(y_test,lr_pred)"
   ]
  },
  {
   "cell_type": "code",
   "execution_count": 75,
   "id": "b38e0ffe",
   "metadata": {},
   "outputs": [],
   "source": [
    "# finding of cross validation score\n",
    "from sklearn.model_selection import cross_val_score"
   ]
  },
  {
   "cell_type": "code",
   "execution_count": 76,
   "id": "e3d1bf88",
   "metadata": {},
   "outputs": [
    {
     "data": {
      "text/plain": [
       "1.236767054452897"
      ]
     },
     "execution_count": 76,
     "metadata": {},
     "output_type": "execute_result"
    }
   ],
   "source": [
    "lin_score=cross_val_score(lr,x,y,cv=5,scoring='neg_mean_absolute_error')\n",
    "lr_score_n=-lin_score\n",
    "np.mean(lr_score_n)"
   ]
  },
  {
   "cell_type": "code",
   "execution_count": 77,
   "id": "619c4270",
   "metadata": {},
   "outputs": [
    {
     "data": {
      "text/plain": [
       "2.696403495208583"
      ]
     },
     "execution_count": 77,
     "metadata": {},
     "output_type": "execute_result"
    }
   ],
   "source": [
    "lin_score=cross_val_score(lr,x,y,cv=5,scoring='neg_mean_squared_error')\n",
    "lr_score_n=-lin_score\n",
    "np.mean(lr_score_n)"
   ]
  },
  {
   "cell_type": "code",
   "execution_count": 78,
   "id": "a6d12d53",
   "metadata": {},
   "outputs": [
    {
     "data": {
      "text/plain": [
       "-0.7000888243517996"
      ]
     },
     "execution_count": 78,
     "metadata": {},
     "output_type": "execute_result"
    }
   ],
   "source": [
    "lin_score=cross_val_score(lr,x,y,cv=5,scoring='r2')\n",
    "lr_score_n=-lin_score\n",
    "np.mean(lr_score_n)"
   ]
  },
  {
   "cell_type": "code",
   "execution_count": 79,
   "id": "b99459d2",
   "metadata": {},
   "outputs": [],
   "source": [
    "from sklearn.neighbors import KNeighborsRegressor"
   ]
  },
  {
   "cell_type": "code",
   "execution_count": 80,
   "id": "8dad497b",
   "metadata": {},
   "outputs": [],
   "source": [
    "knn=KNeighborsRegressor()"
   ]
  },
  {
   "cell_type": "code",
   "execution_count": 81,
   "id": "ea25156d",
   "metadata": {},
   "outputs": [
    {
     "data": {
      "text/plain": [
       "KNeighborsRegressor()"
      ]
     },
     "execution_count": 81,
     "metadata": {},
     "output_type": "execute_result"
    }
   ],
   "source": [
    "knn.fit(x_train,y_train)"
   ]
  },
  {
   "cell_type": "code",
   "execution_count": 82,
   "id": "cfa1dff7",
   "metadata": {},
   "outputs": [],
   "source": [
    "knn_pred=knn.predict(x_test)"
   ]
  },
  {
   "cell_type": "code",
   "execution_count": 83,
   "id": "9aac76a4",
   "metadata": {},
   "outputs": [
    {
     "data": {
      "text/plain": [
       "0.8519946850990769"
      ]
     },
     "execution_count": 83,
     "metadata": {},
     "output_type": "execute_result"
    }
   ],
   "source": [
    "mean_absolute_error(y_test,knn_pred)"
   ]
  },
  {
   "cell_type": "code",
   "execution_count": 84,
   "id": "b81c36fa",
   "metadata": {},
   "outputs": [
    {
     "data": {
      "text/plain": [
       "1.3276941104420004"
      ]
     },
     "execution_count": 84,
     "metadata": {},
     "output_type": "execute_result"
    }
   ],
   "source": [
    "mean_squared_error(y_test,knn_pred)"
   ]
  },
  {
   "cell_type": "code",
   "execution_count": 85,
   "id": "a42484e4",
   "metadata": {},
   "outputs": [
    {
     "data": {
      "text/plain": [
       "0.8634829021450049"
      ]
     },
     "execution_count": 85,
     "metadata": {},
     "output_type": "execute_result"
    }
   ],
   "source": [
    "r2_score(y_test,knn_pred)"
   ]
  },
  {
   "cell_type": "code",
   "execution_count": 86,
   "id": "b4611ecf",
   "metadata": {},
   "outputs": [
    {
     "data": {
      "text/plain": [
       "1.5162621275120347"
      ]
     },
     "execution_count": 86,
     "metadata": {},
     "output_type": "execute_result"
    }
   ],
   "source": [
    "lin_score=cross_val_score(knn,x,y,cv=5,scoring='neg_mean_absolute_error')\n",
    "knn_score_n=-lin_score\n",
    "np.mean(knn_score_n)"
   ]
  },
  {
   "cell_type": "code",
   "execution_count": 87,
   "id": "e85564fc",
   "metadata": {},
   "outputs": [
    {
     "data": {
      "text/plain": [
       "3.9462979284938506"
      ]
     },
     "execution_count": 87,
     "metadata": {},
     "output_type": "execute_result"
    }
   ],
   "source": [
    "lin_score=cross_val_score(knn,x,y,cv=5,scoring='neg_mean_squared_error')\n",
    "knn_score_n=-lin_score\n",
    "np.mean(knn_score_n)"
   ]
  },
  {
   "cell_type": "code",
   "execution_count": 88,
   "id": "32c2f60e",
   "metadata": {},
   "outputs": [
    {
     "data": {
      "text/plain": [
       "-0.5601889549470391"
      ]
     },
     "execution_count": 88,
     "metadata": {},
     "output_type": "execute_result"
    }
   ],
   "source": [
    "lin_score=cross_val_score(knn,x,y,cv=5,scoring='r2')\n",
    "knn_score_n=-lin_score\n",
    "np.mean(knn_score_n)"
   ]
  },
  {
   "cell_type": "code",
   "execution_count": 89,
   "id": "43005dee",
   "metadata": {},
   "outputs": [],
   "source": [
    "from sklearn.tree import DecisionTreeRegressor"
   ]
  },
  {
   "cell_type": "code",
   "execution_count": 90,
   "id": "410ccfeb",
   "metadata": {},
   "outputs": [],
   "source": [
    "dt=DecisionTreeRegressor()"
   ]
  },
  {
   "cell_type": "code",
   "execution_count": 91,
   "id": "3c33e0f7",
   "metadata": {},
   "outputs": [
    {
     "data": {
      "text/plain": [
       "DecisionTreeRegressor()"
      ]
     },
     "execution_count": 91,
     "metadata": {},
     "output_type": "execute_result"
    }
   ],
   "source": [
    "dt.fit(x_train,y_train)"
   ]
  },
  {
   "cell_type": "code",
   "execution_count": 92,
   "id": "a9abb64f",
   "metadata": {},
   "outputs": [],
   "source": [
    "dt_pred=dt.predict(x_test)"
   ]
  },
  {
   "cell_type": "code",
   "execution_count": 93,
   "id": "7104f4e4",
   "metadata": {},
   "outputs": [
    {
     "data": {
      "text/plain": [
       "1.0618764661195936"
      ]
     },
     "execution_count": 93,
     "metadata": {},
     "output_type": "execute_result"
    }
   ],
   "source": [
    "mean_absolute_error(y_test,dt_pred)"
   ]
  },
  {
   "cell_type": "code",
   "execution_count": 94,
   "id": "34c11888",
   "metadata": {},
   "outputs": [
    {
     "data": {
      "text/plain": [
       "2.338442571499979"
      ]
     },
     "execution_count": 94,
     "metadata": {},
     "output_type": "execute_result"
    }
   ],
   "source": [
    "mean_squared_error(y_test,dt_pred)"
   ]
  },
  {
   "cell_type": "code",
   "execution_count": 95,
   "id": "6fbc7a7b",
   "metadata": {},
   "outputs": [
    {
     "data": {
      "text/plain": [
       "0.7595550128218372"
      ]
     },
     "execution_count": 95,
     "metadata": {},
     "output_type": "execute_result"
    }
   ],
   "source": [
    "r2_score(y_test,dt_pred)"
   ]
  },
  {
   "cell_type": "code",
   "execution_count": 96,
   "id": "64480766",
   "metadata": {},
   "outputs": [
    {
     "data": {
      "text/plain": [
       "1.7151181346203201"
      ]
     },
     "execution_count": 96,
     "metadata": {},
     "output_type": "execute_result"
    }
   ],
   "source": [
    "lin_score=cross_val_score(dt,x,y,cv=5,scoring='neg_mean_absolute_error')\n",
    "dt_score_n=-lin_score\n",
    "np.mean(dt_score_n)"
   ]
  },
  {
   "cell_type": "code",
   "execution_count": 97,
   "id": "fad7da1b",
   "metadata": {},
   "outputs": [
    {
     "data": {
      "text/plain": [
       "4.825174601938825"
      ]
     },
     "execution_count": 97,
     "metadata": {},
     "output_type": "execute_result"
    }
   ],
   "source": [
    "lin_score=cross_val_score(dt,x,y,cv=5,scoring='neg_mean_squared_error')\n",
    "dt_score_n=-lin_score\n",
    "np.mean(dt_score_n)"
   ]
  },
  {
   "cell_type": "code",
   "execution_count": 98,
   "id": "f41dee17",
   "metadata": {},
   "outputs": [
    {
     "data": {
      "text/plain": [
       "-0.45374354685004"
      ]
     },
     "execution_count": 98,
     "metadata": {},
     "output_type": "execute_result"
    }
   ],
   "source": [
    "lin_score=cross_val_score(dt,x,y,cv=5,scoring='r2')\n",
    "dt_score_n=-lin_score\n",
    "np.mean(dt_score_n)"
   ]
  },
  {
   "cell_type": "code",
   "execution_count": 99,
   "id": "d175e281",
   "metadata": {},
   "outputs": [],
   "source": [
    "from sklearn.ensemble import RandomForestRegressor"
   ]
  },
  {
   "cell_type": "code",
   "execution_count": 100,
   "id": "be3afd20",
   "metadata": {},
   "outputs": [],
   "source": [
    "rf=RandomForestRegressor()"
   ]
  },
  {
   "cell_type": "code",
   "execution_count": 101,
   "id": "85f56bc4",
   "metadata": {},
   "outputs": [
    {
     "data": {
      "text/plain": [
       "RandomForestRegressor()"
      ]
     },
     "execution_count": 101,
     "metadata": {},
     "output_type": "execute_result"
    }
   ],
   "source": [
    "rf.fit(x_train,y_train)"
   ]
  },
  {
   "cell_type": "code",
   "execution_count": 102,
   "id": "033e03ea",
   "metadata": {},
   "outputs": [],
   "source": [
    "rf_pred=rf.predict(x_test)"
   ]
  },
  {
   "cell_type": "code",
   "execution_count": 103,
   "id": "1ff87ab3",
   "metadata": {},
   "outputs": [
    {
     "data": {
      "text/plain": [
       "0.7466790392551346"
      ]
     },
     "execution_count": 103,
     "metadata": {},
     "output_type": "execute_result"
    }
   ],
   "source": [
    "mean_absolute_error(y_test,rf_pred)"
   ]
  },
  {
   "cell_type": "code",
   "execution_count": 104,
   "id": "50324329",
   "metadata": {},
   "outputs": [
    {
     "data": {
      "text/plain": [
       "1.002729937168284"
      ]
     },
     "execution_count": 104,
     "metadata": {},
     "output_type": "execute_result"
    }
   ],
   "source": [
    "mean_squared_error(y_test,rf_pred)"
   ]
  },
  {
   "cell_type": "code",
   "execution_count": 105,
   "id": "50e925b5",
   "metadata": {},
   "outputs": [
    {
     "data": {
      "text/plain": [
       "0.8968965969812399"
      ]
     },
     "execution_count": 105,
     "metadata": {},
     "output_type": "execute_result"
    }
   ],
   "source": [
    "r2_score(y_test,rf_pred)"
   ]
  },
  {
   "cell_type": "code",
   "execution_count": 106,
   "id": "69f63f9f",
   "metadata": {},
   "outputs": [
    {
     "data": {
      "text/plain": [
       "1.2745789096995903"
      ]
     },
     "execution_count": 106,
     "metadata": {},
     "output_type": "execute_result"
    }
   ],
   "source": [
    "lin_score=cross_val_score(rf,x,y,cv=5,scoring='neg_mean_absolute_error')\n",
    "rf_score_n=-lin_score\n",
    "np.mean(rf_score_n)"
   ]
  },
  {
   "cell_type": "code",
   "execution_count": 107,
   "id": "afd6ecec",
   "metadata": {},
   "outputs": [
    {
     "data": {
      "text/plain": [
       "2.834297068649371"
      ]
     },
     "execution_count": 107,
     "metadata": {},
     "output_type": "execute_result"
    }
   ],
   "source": [
    "lin_score=cross_val_score(rf,x,y,cv=5,scoring='neg_mean_squared_error')\n",
    "rf_score_n=-lin_score\n",
    "np.mean(rf_score_n)"
   ]
  },
  {
   "cell_type": "code",
   "execution_count": 108,
   "id": "9c9bb6ce",
   "metadata": {},
   "outputs": [
    {
     "data": {
      "text/plain": [
       "-0.6859842225296061"
      ]
     },
     "execution_count": 108,
     "metadata": {},
     "output_type": "execute_result"
    }
   ],
   "source": [
    "lin_score=cross_val_score(rf,x,y,cv=5,scoring='r2')\n",
    "rf_score_n=-lin_score\n",
    "np.mean(rf_score_n)"
   ]
  },
  {
   "cell_type": "code",
   "execution_count": 109,
   "id": "39afc968",
   "metadata": {},
   "outputs": [],
   "source": [
    "# hyper parameter tunnung using GridSearchcv\n",
    "grid_param={\n",
    "    'max_depth':range(3,12,2),\n",
    "        'min_samples_leaf':range(3,10,2),\n",
    "            'min_samples_split':range(4,10,2)}"
   ]
  },
  {
   "cell_type": "code",
   "execution_count": 110,
   "id": "8ada16ca",
   "metadata": {},
   "outputs": [],
   "source": [
    "grid_search=GridSearchCV(estimator=rf,\n",
    "                        param_grid=grid_param,\n",
    "                        cv=5,\n",
    "                        n_jobs=-1)"
   ]
  },
  {
   "cell_type": "code",
   "execution_count": 111,
   "id": "550f2d1a",
   "metadata": {},
   "outputs": [
    {
     "data": {
      "text/plain": [
       "GridSearchCV(cv=5, estimator=RandomForestRegressor(), n_jobs=-1,\n",
       "             param_grid={'max_depth': range(3, 12, 2),\n",
       "                         'min_samples_leaf': range(3, 10, 2),\n",
       "                         'min_samples_split': range(4, 10, 2)})"
      ]
     },
     "execution_count": 111,
     "metadata": {},
     "output_type": "execute_result"
    }
   ],
   "source": [
    "grid_search.fit(x_train,y_train)"
   ]
  },
  {
   "cell_type": "code",
   "execution_count": 112,
   "id": "f0a031ab",
   "metadata": {},
   "outputs": [
    {
     "name": "stdout",
     "output_type": "stream",
     "text": [
      "{'max_depth': 11, 'min_samples_leaf': 3, 'min_samples_split': 6}\n"
     ]
    }
   ],
   "source": [
    "best_parameters=grid_search.best_params_\n",
    "print(best_parameters)"
   ]
  },
  {
   "cell_type": "code",
   "execution_count": 113,
   "id": "dd5bb680",
   "metadata": {},
   "outputs": [
    {
     "data": {
      "text/plain": [
       "0.8809779068041815"
      ]
     },
     "execution_count": 113,
     "metadata": {},
     "output_type": "execute_result"
    }
   ],
   "source": [
    "rf=RandomForestRegressor(max_depth=15, min_samples_leaf=4, min_samples_split=15)\n",
    "rf.fit(x_train,y_train)\n",
    "rf.score(x_test,y_test)"
   ]
  },
  {
   "cell_type": "code",
   "execution_count": null,
   "id": "1fbc5845",
   "metadata": {},
   "outputs": [],
   "source": [
    "# from the above conclusion randomforest is the best machine learning algorithm"
   ]
  }
 ],
 "metadata": {
  "kernelspec": {
   "display_name": "Python 3",
   "language": "python",
   "name": "python3"
  },
  "language_info": {
   "codemirror_mode": {
    "name": "ipython",
    "version": 3
   },
   "file_extension": ".py",
   "mimetype": "text/x-python",
   "name": "python",
   "nbconvert_exporter": "python",
   "pygments_lexer": "ipython3",
   "version": "3.8.8"
  }
 },
 "nbformat": 4,
 "nbformat_minor": 5
}
