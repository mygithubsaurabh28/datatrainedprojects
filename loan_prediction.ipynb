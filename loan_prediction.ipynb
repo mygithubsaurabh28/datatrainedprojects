{
 "cells": [
  {
   "cell_type": "code",
   "execution_count": 82,
   "id": "6b4e1a7f",
   "metadata": {},
   "outputs": [],
   "source": [
    "import pandas as pd\n",
    "import numpy as np\n",
    "import matplotlib.pyplot as plt\n",
    "import seaborn as sns\n",
    "import warnings\n",
    "warnings.filterwarnings('ignore')\n",
    "%matplotlib inline"
   ]
  },
  {
   "cell_type": "code",
   "execution_count": 83,
   "id": "5e200079",
   "metadata": {},
   "outputs": [],
   "source": [
    "data=pd.read_csv(r\"E:\\data trained projects\\Evaluation Projects\\assignment 2\\loan_prediction.csv\")"
   ]
  },
  {
   "cell_type": "code",
   "execution_count": 84,
   "id": "bf522f8f",
   "metadata": {},
   "outputs": [
    {
     "data": {
      "text/html": [
       "<div>\n",
       "<style scoped>\n",
       "    .dataframe tbody tr th:only-of-type {\n",
       "        vertical-align: middle;\n",
       "    }\n",
       "\n",
       "    .dataframe tbody tr th {\n",
       "        vertical-align: top;\n",
       "    }\n",
       "\n",
       "    .dataframe thead th {\n",
       "        text-align: right;\n",
       "    }\n",
       "</style>\n",
       "<table border=\"1\" class=\"dataframe\">\n",
       "  <thead>\n",
       "    <tr style=\"text-align: right;\">\n",
       "      <th></th>\n",
       "      <th>Loan_ID</th>\n",
       "      <th>Gender</th>\n",
       "      <th>Married</th>\n",
       "      <th>Dependents</th>\n",
       "      <th>Education</th>\n",
       "      <th>Self_Employed</th>\n",
       "      <th>ApplicantIncome</th>\n",
       "      <th>CoapplicantIncome</th>\n",
       "      <th>LoanAmount</th>\n",
       "      <th>Loan_Amount_Term</th>\n",
       "      <th>Credit_History</th>\n",
       "      <th>Property_Area</th>\n",
       "      <th>Loan_Status</th>\n",
       "    </tr>\n",
       "  </thead>\n",
       "  <tbody>\n",
       "    <tr>\n",
       "      <th>0</th>\n",
       "      <td>LP001002</td>\n",
       "      <td>Male</td>\n",
       "      <td>No</td>\n",
       "      <td>0</td>\n",
       "      <td>Graduate</td>\n",
       "      <td>No</td>\n",
       "      <td>5849</td>\n",
       "      <td>0.0</td>\n",
       "      <td>NaN</td>\n",
       "      <td>360.0</td>\n",
       "      <td>1.0</td>\n",
       "      <td>Urban</td>\n",
       "      <td>Y</td>\n",
       "    </tr>\n",
       "    <tr>\n",
       "      <th>1</th>\n",
       "      <td>LP001003</td>\n",
       "      <td>Male</td>\n",
       "      <td>Yes</td>\n",
       "      <td>1</td>\n",
       "      <td>Graduate</td>\n",
       "      <td>No</td>\n",
       "      <td>4583</td>\n",
       "      <td>1508.0</td>\n",
       "      <td>128.0</td>\n",
       "      <td>360.0</td>\n",
       "      <td>1.0</td>\n",
       "      <td>Rural</td>\n",
       "      <td>N</td>\n",
       "    </tr>\n",
       "    <tr>\n",
       "      <th>2</th>\n",
       "      <td>LP001005</td>\n",
       "      <td>Male</td>\n",
       "      <td>Yes</td>\n",
       "      <td>0</td>\n",
       "      <td>Graduate</td>\n",
       "      <td>Yes</td>\n",
       "      <td>3000</td>\n",
       "      <td>0.0</td>\n",
       "      <td>66.0</td>\n",
       "      <td>360.0</td>\n",
       "      <td>1.0</td>\n",
       "      <td>Urban</td>\n",
       "      <td>Y</td>\n",
       "    </tr>\n",
       "    <tr>\n",
       "      <th>3</th>\n",
       "      <td>LP001006</td>\n",
       "      <td>Male</td>\n",
       "      <td>Yes</td>\n",
       "      <td>0</td>\n",
       "      <td>Not Graduate</td>\n",
       "      <td>No</td>\n",
       "      <td>2583</td>\n",
       "      <td>2358.0</td>\n",
       "      <td>120.0</td>\n",
       "      <td>360.0</td>\n",
       "      <td>1.0</td>\n",
       "      <td>Urban</td>\n",
       "      <td>Y</td>\n",
       "    </tr>\n",
       "    <tr>\n",
       "      <th>4</th>\n",
       "      <td>LP001008</td>\n",
       "      <td>Male</td>\n",
       "      <td>No</td>\n",
       "      <td>0</td>\n",
       "      <td>Graduate</td>\n",
       "      <td>No</td>\n",
       "      <td>6000</td>\n",
       "      <td>0.0</td>\n",
       "      <td>141.0</td>\n",
       "      <td>360.0</td>\n",
       "      <td>1.0</td>\n",
       "      <td>Urban</td>\n",
       "      <td>Y</td>\n",
       "    </tr>\n",
       "  </tbody>\n",
       "</table>\n",
       "</div>"
      ],
      "text/plain": [
       "    Loan_ID Gender Married Dependents     Education Self_Employed  \\\n",
       "0  LP001002   Male      No          0      Graduate            No   \n",
       "1  LP001003   Male     Yes          1      Graduate            No   \n",
       "2  LP001005   Male     Yes          0      Graduate           Yes   \n",
       "3  LP001006   Male     Yes          0  Not Graduate            No   \n",
       "4  LP001008   Male      No          0      Graduate            No   \n",
       "\n",
       "   ApplicantIncome  CoapplicantIncome  LoanAmount  Loan_Amount_Term  \\\n",
       "0             5849                0.0         NaN             360.0   \n",
       "1             4583             1508.0       128.0             360.0   \n",
       "2             3000                0.0        66.0             360.0   \n",
       "3             2583             2358.0       120.0             360.0   \n",
       "4             6000                0.0       141.0             360.0   \n",
       "\n",
       "   Credit_History Property_Area Loan_Status  \n",
       "0             1.0         Urban           Y  \n",
       "1             1.0         Rural           N  \n",
       "2             1.0         Urban           Y  \n",
       "3             1.0         Urban           Y  \n",
       "4             1.0         Urban           Y  "
      ]
     },
     "execution_count": 84,
     "metadata": {},
     "output_type": "execute_result"
    }
   ],
   "source": [
    "data.head()"
   ]
  },
  {
   "cell_type": "code",
   "execution_count": 85,
   "id": "e9989738",
   "metadata": {},
   "outputs": [
    {
     "data": {
      "text/html": [
       "<div>\n",
       "<style scoped>\n",
       "    .dataframe tbody tr th:only-of-type {\n",
       "        vertical-align: middle;\n",
       "    }\n",
       "\n",
       "    .dataframe tbody tr th {\n",
       "        vertical-align: top;\n",
       "    }\n",
       "\n",
       "    .dataframe thead th {\n",
       "        text-align: right;\n",
       "    }\n",
       "</style>\n",
       "<table border=\"1\" class=\"dataframe\">\n",
       "  <thead>\n",
       "    <tr style=\"text-align: right;\">\n",
       "      <th></th>\n",
       "      <th>ApplicantIncome</th>\n",
       "      <th>CoapplicantIncome</th>\n",
       "      <th>LoanAmount</th>\n",
       "      <th>Loan_Amount_Term</th>\n",
       "      <th>Credit_History</th>\n",
       "    </tr>\n",
       "  </thead>\n",
       "  <tbody>\n",
       "    <tr>\n",
       "      <th>count</th>\n",
       "      <td>614.000000</td>\n",
       "      <td>614.000000</td>\n",
       "      <td>592.000000</td>\n",
       "      <td>600.00000</td>\n",
       "      <td>564.000000</td>\n",
       "    </tr>\n",
       "    <tr>\n",
       "      <th>mean</th>\n",
       "      <td>5403.459283</td>\n",
       "      <td>1621.245798</td>\n",
       "      <td>146.412162</td>\n",
       "      <td>342.00000</td>\n",
       "      <td>0.842199</td>\n",
       "    </tr>\n",
       "    <tr>\n",
       "      <th>std</th>\n",
       "      <td>6109.041673</td>\n",
       "      <td>2926.248369</td>\n",
       "      <td>85.587325</td>\n",
       "      <td>65.12041</td>\n",
       "      <td>0.364878</td>\n",
       "    </tr>\n",
       "    <tr>\n",
       "      <th>min</th>\n",
       "      <td>150.000000</td>\n",
       "      <td>0.000000</td>\n",
       "      <td>9.000000</td>\n",
       "      <td>12.00000</td>\n",
       "      <td>0.000000</td>\n",
       "    </tr>\n",
       "    <tr>\n",
       "      <th>25%</th>\n",
       "      <td>2877.500000</td>\n",
       "      <td>0.000000</td>\n",
       "      <td>100.000000</td>\n",
       "      <td>360.00000</td>\n",
       "      <td>1.000000</td>\n",
       "    </tr>\n",
       "    <tr>\n",
       "      <th>50%</th>\n",
       "      <td>3812.500000</td>\n",
       "      <td>1188.500000</td>\n",
       "      <td>128.000000</td>\n",
       "      <td>360.00000</td>\n",
       "      <td>1.000000</td>\n",
       "    </tr>\n",
       "    <tr>\n",
       "      <th>75%</th>\n",
       "      <td>5795.000000</td>\n",
       "      <td>2297.250000</td>\n",
       "      <td>168.000000</td>\n",
       "      <td>360.00000</td>\n",
       "      <td>1.000000</td>\n",
       "    </tr>\n",
       "    <tr>\n",
       "      <th>max</th>\n",
       "      <td>81000.000000</td>\n",
       "      <td>41667.000000</td>\n",
       "      <td>700.000000</td>\n",
       "      <td>480.00000</td>\n",
       "      <td>1.000000</td>\n",
       "    </tr>\n",
       "  </tbody>\n",
       "</table>\n",
       "</div>"
      ],
      "text/plain": [
       "       ApplicantIncome  CoapplicantIncome  LoanAmount  Loan_Amount_Term  \\\n",
       "count       614.000000         614.000000  592.000000         600.00000   \n",
       "mean       5403.459283        1621.245798  146.412162         342.00000   \n",
       "std        6109.041673        2926.248369   85.587325          65.12041   \n",
       "min         150.000000           0.000000    9.000000          12.00000   \n",
       "25%        2877.500000           0.000000  100.000000         360.00000   \n",
       "50%        3812.500000        1188.500000  128.000000         360.00000   \n",
       "75%        5795.000000        2297.250000  168.000000         360.00000   \n",
       "max       81000.000000       41667.000000  700.000000         480.00000   \n",
       "\n",
       "       Credit_History  \n",
       "count      564.000000  \n",
       "mean         0.842199  \n",
       "std          0.364878  \n",
       "min          0.000000  \n",
       "25%          1.000000  \n",
       "50%          1.000000  \n",
       "75%          1.000000  \n",
       "max          1.000000  "
      ]
     },
     "execution_count": 85,
     "metadata": {},
     "output_type": "execute_result"
    }
   ],
   "source": [
    "data.describe()"
   ]
  },
  {
   "cell_type": "code",
   "execution_count": 86,
   "id": "9b2c8b51",
   "metadata": {},
   "outputs": [
    {
     "name": "stdout",
     "output_type": "stream",
     "text": [
      "<class 'pandas.core.frame.DataFrame'>\n",
      "RangeIndex: 614 entries, 0 to 613\n",
      "Data columns (total 13 columns):\n",
      " #   Column             Non-Null Count  Dtype  \n",
      "---  ------             --------------  -----  \n",
      " 0   Loan_ID            614 non-null    object \n",
      " 1   Gender             601 non-null    object \n",
      " 2   Married            611 non-null    object \n",
      " 3   Dependents         599 non-null    object \n",
      " 4   Education          614 non-null    object \n",
      " 5   Self_Employed      582 non-null    object \n",
      " 6   ApplicantIncome    614 non-null    int64  \n",
      " 7   CoapplicantIncome  614 non-null    float64\n",
      " 8   LoanAmount         592 non-null    float64\n",
      " 9   Loan_Amount_Term   600 non-null    float64\n",
      " 10  Credit_History     564 non-null    float64\n",
      " 11  Property_Area      614 non-null    object \n",
      " 12  Loan_Status        614 non-null    object \n",
      "dtypes: float64(4), int64(1), object(8)\n",
      "memory usage: 62.5+ KB\n"
     ]
    }
   ],
   "source": [
    "data.info()"
   ]
  },
  {
   "cell_type": "code",
   "execution_count": 87,
   "id": "172f1241",
   "metadata": {},
   "outputs": [
    {
     "data": {
      "text/plain": [
       "Loan_ID               0\n",
       "Gender               13\n",
       "Married               3\n",
       "Dependents           15\n",
       "Education             0\n",
       "Self_Employed        32\n",
       "ApplicantIncome       0\n",
       "CoapplicantIncome     0\n",
       "LoanAmount           22\n",
       "Loan_Amount_Term     14\n",
       "Credit_History       50\n",
       "Property_Area         0\n",
       "Loan_Status           0\n",
       "dtype: int64"
      ]
     },
     "execution_count": 87,
     "metadata": {},
     "output_type": "execute_result"
    }
   ],
   "source": [
    "data.isnull().sum()"
   ]
  },
  {
   "cell_type": "code",
   "execution_count": 88,
   "id": "8dc8b184",
   "metadata": {},
   "outputs": [],
   "source": [
    "data['LoanAmount']=data['LoanAmount'].fillna(data['LoanAmount'].mean())"
   ]
  },
  {
   "cell_type": "code",
   "execution_count": 89,
   "id": "390d16b9",
   "metadata": {},
   "outputs": [],
   "source": [
    "data['Credit_History']=data['Credit_History'].fillna(data['Credit_History'].median())"
   ]
  },
  {
   "cell_type": "code",
   "execution_count": 90,
   "id": "b286332a",
   "metadata": {},
   "outputs": [
    {
     "data": {
      "text/plain": [
       "Loan_ID               0\n",
       "Gender               13\n",
       "Married               3\n",
       "Dependents           15\n",
       "Education             0\n",
       "Self_Employed        32\n",
       "ApplicantIncome       0\n",
       "CoapplicantIncome     0\n",
       "LoanAmount            0\n",
       "Loan_Amount_Term     14\n",
       "Credit_History        0\n",
       "Property_Area         0\n",
       "Loan_Status           0\n",
       "dtype: int64"
      ]
     },
     "execution_count": 90,
     "metadata": {},
     "output_type": "execute_result"
    }
   ],
   "source": [
    "data.isnull().sum()"
   ]
  },
  {
   "cell_type": "code",
   "execution_count": 91,
   "id": "23603e72",
   "metadata": {},
   "outputs": [],
   "source": [
    "data.dropna(inplace=True)"
   ]
  },
  {
   "cell_type": "code",
   "execution_count": 92,
   "id": "23140ec8",
   "metadata": {},
   "outputs": [
    {
     "data": {
      "text/plain": [
       "Loan_ID              0\n",
       "Gender               0\n",
       "Married              0\n",
       "Dependents           0\n",
       "Education            0\n",
       "Self_Employed        0\n",
       "ApplicantIncome      0\n",
       "CoapplicantIncome    0\n",
       "LoanAmount           0\n",
       "Loan_Amount_Term     0\n",
       "Credit_History       0\n",
       "Property_Area        0\n",
       "Loan_Status          0\n",
       "dtype: int64"
      ]
     },
     "execution_count": 92,
     "metadata": {},
     "output_type": "execute_result"
    }
   ],
   "source": [
    "data.isnull().sum()"
   ]
  },
  {
   "cell_type": "code",
   "execution_count": 93,
   "id": "a7f6e624",
   "metadata": {},
   "outputs": [
    {
     "data": {
      "text/plain": [
       "<AxesSubplot:xlabel='Gender', ylabel='count'>"
      ]
     },
     "execution_count": 93,
     "metadata": {},
     "output_type": "execute_result"
    },
    {
     "data": {
      "image/png": "[encoded data removed]",
      "text/plain": [
       "<Figure size 288x288 with 1 Axes>"
      ]
     },
     "metadata": {
      "needs_background": "light"
     },
     "output_type": "display_data"
    }
   ],
   "source": [
    "plt.figure(figsize=(4,4))\n",
    "sns.countplot('Gender',hue='Loan_Status',data=data)"
   ]
  },
  {
   "cell_type": "code",
   "execution_count": 94,
   "id": "95b3d6b3",
   "metadata": {},
   "outputs": [
    {
     "data": {
      "text/plain": [
       "<AxesSubplot:xlabel='Married', ylabel='count'>"
      ]
     },
     "execution_count": 94,
     "metadata": {},
     "output_type": "execute_result"
    },
    {
     "data": {
      "image/png": "[encoded data removed]",
      "text/plain": [
       "<Figure size 288x288 with 1 Axes>"
      ]
     },
     "metadata": {
      "needs_background": "light"
     },
     "output_type": "display_data"
    }
   ],
   "source": [
    "plt.figure(figsize=(4,4))\n",
    "sns.countplot('Married',hue='Loan_Status',data=data)"
   ]
  },
  {
   "cell_type": "code",
   "execution_count": 95,
   "id": "9affcc62",
   "metadata": {},
   "outputs": [
    {
     "data": {
      "text/plain": [
       "<AxesSubplot:xlabel='Education', ylabel='count'>"
      ]
     },
     "execution_count": 95,
     "metadata": {},
     "output_type": "execute_result"
    },
    {
     "data": {
      "image/png": "[encoded data removed]",
      "text/plain": [
       "<Figure size 288x288 with 1 Axes>"
      ]
     },
     "metadata": {
      "needs_background": "light"
     },
     "output_type": "display_data"
    }
   ],
   "source": [
    "plt.figure(figsize=(4,4))\n",
    "sns.countplot('Education',hue='Loan_Status',data=data)"
   ]
  },
  {
   "cell_type": "code",
   "execution_count": 96,
   "id": "6d3e4677",
   "metadata": {},
   "outputs": [
    {
     "data": {
      "text/plain": [
       "<AxesSubplot:xlabel='Property_Area', ylabel='count'>"
      ]
     },
     "execution_count": 96,
     "metadata": {},
     "output_type": "execute_result"
    },
    {
     "data": {
      "image/png": "[encoded data removed]",
      "text/plain": [
       "<Figure size 288x288 with 1 Axes>"
      ]
     },
     "metadata": {
      "needs_background": "light"
     },
     "output_type": "display_data"
    }
   ],
   "source": [
    "plt.figure(figsize=(4,4))\n",
    "sns.countplot('Property_Area',hue='Loan_Status',data=data)"
   ]
  },
  {
   "cell_type": "code",
   "execution_count": 97,
   "id": "45ebe86a",
   "metadata": {},
   "outputs": [
    {
     "data": {
      "text/plain": [
       "<AxesSubplot:xlabel='Self_Employed', ylabel='count'>"
      ]
     },
     "execution_count": 97,
     "metadata": {},
     "output_type": "execute_result"
    },
    {
     "data": {
      "image/png": "[encoded data removed]",
      "text/plain": [
       "<Figure size 288x288 with 1 Axes>"
      ]
     },
     "metadata": {
      "needs_background": "light"
     },
     "output_type": "display_data"
    }
   ],
   "source": [
    "plt.figure(figsize=(4,4))\n",
    "sns.countplot('Self_Employed',hue='Loan_Status',data=data)"
   ]
  },
  {
   "cell_type": "code",
   "execution_count": 98,
   "id": "7c9747a9",
   "metadata": {},
   "outputs": [
    {
     "name": "stdout",
     "output_type": "stream",
     "text": [
      "Loan_ID : ['LP001002' 'LP001003' 'LP001005' 'LP001006' 'LP001008' 'LP001011'\n",
      " 'LP001013' 'LP001014' 'LP001018' 'LP001020' 'LP001024' 'LP001028'\n",
      " 'LP001029' 'LP001030' 'LP001032' 'LP001034' 'LP001036' 'LP001038'\n",
      " 'LP001043' 'LP001046' 'LP001047' 'LP001066' 'LP001068' 'LP001073'\n",
      " 'LP001086' 'LP001095' 'LP001097' 'LP001098' 'LP001100' 'LP001106'\n",
      " 'LP001112' 'LP001114' 'LP001116' 'LP001119' 'LP001120' 'LP001123'\n",
      " 'LP001131' 'LP001138' 'LP001144' 'LP001146' 'LP001151' 'LP001155'\n",
      " 'LP001157' 'LP001164' 'LP001179' 'LP001186' 'LP001194' 'LP001195'\n",
      " 'LP001197' 'LP001198' 'LP001199' 'LP001205' 'LP001206' 'LP001207'\n",
      " 'LP001213' 'LP001222' 'LP001225' 'LP001228' 'LP001233' 'LP001238'\n",
      " 'LP001241' 'LP001243' 'LP001245' 'LP001248' 'LP001253' 'LP001255'\n",
      " 'LP001256' 'LP001259' 'LP001263' 'LP001264' 'LP001265' 'LP001266'\n",
      " 'LP001267' 'LP001273' 'LP001275' 'LP001279' 'LP001280' 'LP001282'\n",
      " 'LP001289' 'LP001310' 'LP001316' 'LP001318' 'LP001319' 'LP001322'\n",
      " 'LP001325' 'LP001327' 'LP001333' 'LP001334' 'LP001343' 'LP001345'\n",
      " 'LP001349' 'LP001356' 'LP001367' 'LP001369' 'LP001379' 'LP001384'\n",
      " 'LP001385' 'LP001392' 'LP001401' 'LP001404' 'LP001405' 'LP001421'\n",
      " 'LP001422' 'LP001430' 'LP001431' 'LP001432' 'LP001439' 'LP001443'\n",
      " 'LP001449' 'LP001451' 'LP001465' 'LP001469' 'LP001473' 'LP001478'\n",
      " 'LP001482' 'LP001487' 'LP001488' 'LP001489' 'LP001491' 'LP001492'\n",
      " 'LP001493' 'LP001497' 'LP001498' 'LP001504' 'LP001507' 'LP001508'\n",
      " 'LP001514' 'LP001516' 'LP001518' 'LP001519' 'LP001520' 'LP001528'\n",
      " 'LP001529' 'LP001531' 'LP001532' 'LP001535' 'LP001536' 'LP001541'\n",
      " 'LP001543' 'LP001552' 'LP001560' 'LP001562' 'LP001565' 'LP001570'\n",
      " 'LP001572' 'LP001577' 'LP001578' 'LP001579' 'LP001580' 'LP001586'\n",
      " 'LP001594' 'LP001603' 'LP001606' 'LP001608' 'LP001610' 'LP001616'\n",
      " 'LP001630' 'LP001633' 'LP001634' 'LP001636' 'LP001637' 'LP001639'\n",
      " 'LP001640' 'LP001641' 'LP001643' 'LP001647' 'LP001653' 'LP001656'\n",
      " 'LP001657' 'LP001658' 'LP001664' 'LP001665' 'LP001666' 'LP001671'\n",
      " 'LP001673' 'LP001674' 'LP001677' 'LP001682' 'LP001688' 'LP001691'\n",
      " 'LP001692' 'LP001693' 'LP001698' 'LP001699' 'LP001702' 'LP001708'\n",
      " 'LP001711' 'LP001713' 'LP001715' 'LP001716' 'LP001720' 'LP001722'\n",
      " 'LP001726' 'LP001734' 'LP001736' 'LP001743' 'LP001744' 'LP001750'\n",
      " 'LP001751' 'LP001758' 'LP001761' 'LP001765' 'LP001776' 'LP001778'\n",
      " 'LP001784' 'LP001788' 'LP001790' 'LP001792' 'LP001798' 'LP001800'\n",
      " 'LP001806' 'LP001807' 'LP001811' 'LP001813' 'LP001814' 'LP001819'\n",
      " 'LP001824' 'LP001825' 'LP001835' 'LP001836' 'LP001841' 'LP001843'\n",
      " 'LP001844' 'LP001846' 'LP001849' 'LP001854' 'LP001859' 'LP001864'\n",
      " 'LP001865' 'LP001868' 'LP001870' 'LP001871' 'LP001872' 'LP001875'\n",
      " 'LP001877' 'LP001882' 'LP001884' 'LP001888' 'LP001891' 'LP001892'\n",
      " 'LP001894' 'LP001896' 'LP001900' 'LP001903' 'LP001904' 'LP001907'\n",
      " 'LP001908' 'LP001910' 'LP001914' 'LP001915' 'LP001917' 'LP001922'\n",
      " 'LP001924' 'LP001925' 'LP001926' 'LP001931' 'LP001935' 'LP001936'\n",
      " 'LP001938' 'LP001940' 'LP001947' 'LP001953' 'LP001954' 'LP001955'\n",
      " 'LP001963' 'LP001964' 'LP001974' 'LP001977' 'LP001978' 'LP001990'\n",
      " 'LP001993' 'LP001994' 'LP001996' 'LP001998' 'LP002002' 'LP002004'\n",
      " 'LP002006' 'LP002008' 'LP002031' 'LP002035' 'LP002036' 'LP002043'\n",
      " 'LP002050' 'LP002051' 'LP002053' 'LP002054' 'LP002055' 'LP002065'\n",
      " 'LP002067' 'LP002068' 'LP002082' 'LP002086' 'LP002087' 'LP002097'\n",
      " 'LP002098' 'LP002112' 'LP002113' 'LP002114' 'LP002115' 'LP002116'\n",
      " 'LP002119' 'LP002126' 'LP002129' 'LP002131' 'LP002137' 'LP002138'\n",
      " 'LP002139' 'LP002140' 'LP002141' 'LP002142' 'LP002143' 'LP002149'\n",
      " 'LP002151' 'LP002158' 'LP002160' 'LP002161' 'LP002170' 'LP002175'\n",
      " 'LP002178' 'LP002180' 'LP002181' 'LP002187' 'LP002190' 'LP002191'\n",
      " 'LP002194' 'LP002197' 'LP002201' 'LP002205' 'LP002211' 'LP002219'\n",
      " 'LP002223' 'LP002224' 'LP002225' 'LP002229' 'LP002231' 'LP002234'\n",
      " 'LP002236' 'LP002239' 'LP002243' 'LP002244' 'LP002250' 'LP002255'\n",
      " 'LP002262' 'LP002263' 'LP002265' 'LP002266' 'LP002272' 'LP002277'\n",
      " 'LP002281' 'LP002284' 'LP002287' 'LP002288' 'LP002296' 'LP002297'\n",
      " 'LP002300' 'LP002301' 'LP002305' 'LP002308' 'LP002314' 'LP002315'\n",
      " 'LP002317' 'LP002318' 'LP002328' 'LP002332' 'LP002335' 'LP002337'\n",
      " 'LP002341' 'LP002342' 'LP002345' 'LP002347' 'LP002348' 'LP002361'\n",
      " 'LP002364' 'LP002366' 'LP002367' 'LP002368' 'LP002369' 'LP002370'\n",
      " 'LP002377' 'LP002379' 'LP002387' 'LP002390' 'LP002398' 'LP002401'\n",
      " 'LP002403' 'LP002407' 'LP002408' 'LP002409' 'LP002418' 'LP002422'\n",
      " 'LP002424' 'LP002429' 'LP002434' 'LP002443' 'LP002444' 'LP002446'\n",
      " 'LP002447' 'LP002448' 'LP002449' 'LP002453' 'LP002455' 'LP002459'\n",
      " 'LP002467' 'LP002472' 'LP002473' 'LP002484' 'LP002487' 'LP002493'\n",
      " 'LP002494' 'LP002500' 'LP002505' 'LP002515' 'LP002517' 'LP002519'\n",
      " 'LP002522' 'LP002524' 'LP002527' 'LP002529' 'LP002531' 'LP002533'\n",
      " 'LP002534' 'LP002536' 'LP002537' 'LP002541' 'LP002543' 'LP002544'\n",
      " 'LP002545' 'LP002547' 'LP002555' 'LP002556' 'LP002560' 'LP002562'\n",
      " 'LP002571' 'LP002582' 'LP002585' 'LP002586' 'LP002587' 'LP002588'\n",
      " 'LP002600' 'LP002602' 'LP002603' 'LP002606' 'LP002615' 'LP002618'\n",
      " 'LP002619' 'LP002622' 'LP002624' 'LP002626' 'LP002634' 'LP002637'\n",
      " 'LP002640' 'LP002643' 'LP002648' 'LP002652' 'LP002659' 'LP002670'\n",
      " 'LP002683' 'LP002684' 'LP002689' 'LP002690' 'LP002692' 'LP002693'\n",
      " 'LP002697' 'LP002699' 'LP002705' 'LP002706' 'LP002714' 'LP002716'\n",
      " 'LP002717' 'LP002720' 'LP002723' 'LP002729' 'LP002731' 'LP002734'\n",
      " 'LP002738' 'LP002739' 'LP002740' 'LP002741' 'LP002743' 'LP002755'\n",
      " 'LP002757' 'LP002767' 'LP002768' 'LP002772' 'LP002776' 'LP002777'\n",
      " 'LP002778' 'LP002784' 'LP002785' 'LP002788' 'LP002789' 'LP002792'\n",
      " 'LP002794' 'LP002795' 'LP002798' 'LP002804' 'LP002807' 'LP002813'\n",
      " 'LP002820' 'LP002821' 'LP002832' 'LP002833' 'LP002836' 'LP002837'\n",
      " 'LP002840' 'LP002841' 'LP002842' 'LP002855' 'LP002862' 'LP002863'\n",
      " 'LP002868' 'LP002874' 'LP002877' 'LP002892' 'LP002893' 'LP002894'\n",
      " 'LP002898' 'LP002911' 'LP002912' 'LP002916' 'LP002917' 'LP002926'\n",
      " 'LP002928' 'LP002931' 'LP002936' 'LP002938' 'LP002940' 'LP002941'\n",
      " 'LP002945' 'LP002948' 'LP002953' 'LP002958' 'LP002959' 'LP002960'\n",
      " 'LP002961' 'LP002964' 'LP002974' 'LP002978' 'LP002979' 'LP002983'\n",
      " 'LP002984' 'LP002990']\n",
      "LP002142    1\n",
      "LP002693    1\n",
      "LP001938    1\n",
      "LP002191    1\n",
      "LP002832    1\n",
      "           ..\n",
      "LP002053    1\n",
      "LP002408    1\n",
      "LP001233    1\n",
      "LP001100    1\n",
      "LP001489    1\n",
      "Name: Loan_ID, Length: 542, dtype: int64\n",
      "-------------------------------------\n",
      "Gender : ['Male' 'Female']\n",
      "Male      444\n",
      "Female     98\n",
      "Name: Gender, dtype: int64\n",
      "-------------------------------------\n",
      "Married : ['No' 'Yes']\n",
      "Yes    355\n",
      "No     187\n",
      "Name: Married, dtype: int64\n",
      "-------------------------------------\n",
      "Dependents : ['0' '1' '2' '3+']\n",
      "0     309\n",
      "2      94\n",
      "1      94\n",
      "3+     45\n",
      "Name: Dependents, dtype: int64\n",
      "-------------------------------------\n",
      "Education : ['Graduate' 'Not Graduate']\n",
      "Graduate        425\n",
      "Not Graduate    117\n",
      "Name: Education, dtype: int64\n",
      "-------------------------------------\n",
      "Self_Employed : ['No' 'Yes']\n",
      "No     467\n",
      "Yes     75\n",
      "Name: Self_Employed, dtype: int64\n",
      "-------------------------------------\n",
      "Property_Area : ['Urban' 'Rural' 'Semiurban']\n",
      "Semiurban    209\n",
      "Urban        174\n",
      "Rural        159\n",
      "Name: Property_Area, dtype: int64\n",
      "-------------------------------------\n",
      "Loan_Status : ['Y' 'N']\n",
      "Y    376\n",
      "N    166\n",
      "Name: Loan_Status, dtype: int64\n",
      "-------------------------------------\n"
     ]
    }
   ],
   "source": [
    "# check categorical column\n",
    "for column in data.columns:\n",
    "    if data[column].dtype==object:\n",
    "        print(str(column)+ \" : \"+str(data[column].unique()))\n",
    "        print(data[column].value_counts())\n",
    "        print('-------------------------------------')"
   ]
  },
  {
   "cell_type": "code",
   "execution_count": 99,
   "id": "77fdb540",
   "metadata": {},
   "outputs": [],
   "source": [
    "# converting of categorical value to numerical using map function"
   ]
  },
  {
   "cell_type": "code",
   "execution_count": 100,
   "id": "e86dec9d",
   "metadata": {},
   "outputs": [],
   "source": [
    "from sklearn.preprocessing import LabelEncoder"
   ]
  },
  {
   "cell_type": "code",
   "execution_count": 101,
   "id": "2fe47e00",
   "metadata": {},
   "outputs": [],
   "source": [
    "le=LabelEncoder()"
   ]
  },
  {
   "cell_type": "code",
   "execution_count": 102,
   "id": "e5493262",
   "metadata": {},
   "outputs": [],
   "source": [
    "data['Loan_Status']=le.fit_transform(data['Loan_Status'])"
   ]
  },
  {
   "cell_type": "code",
   "execution_count": 103,
   "id": "3703b329",
   "metadata": {},
   "outputs": [],
   "source": [
    "data.Property_Area=data.Property_Area.map({'Rural':0,'Semiurban':1,'Urban':2})"
   ]
  },
  {
   "cell_type": "code",
   "execution_count": 104,
   "id": "4c13c676",
   "metadata": {},
   "outputs": [],
   "source": [
    "data['Self_Employed']=data['Self_Employed'].map({'No':0,'Yes':1})"
   ]
  },
  {
   "cell_type": "code",
   "execution_count": 105,
   "id": "712ac8ac",
   "metadata": {},
   "outputs": [],
   "source": [
    "data['Education']=data['Education'].map({'Not Graduate':0,'Graduate':1})"
   ]
  },
  {
   "cell_type": "code",
   "execution_count": 106,
   "id": "a04803e2",
   "metadata": {},
   "outputs": [],
   "source": [
    "data['Dependents']=data['Dependents'].map({'0':0,'1':1,'2':2,'3+':3})"
   ]
  },
  {
   "cell_type": "code",
   "execution_count": 107,
   "id": "d24cded8",
   "metadata": {},
   "outputs": [],
   "source": [
    "data['Gender']=data['Gender'].map({'Male':1,'Female':1})"
   ]
  },
  {
   "cell_type": "code",
   "execution_count": 108,
   "id": "5025d9fe",
   "metadata": {},
   "outputs": [],
   "source": [
    "data['Married']=data['Married'].map({'Yes':1,'No':0})"
   ]
  },
  {
   "cell_type": "code",
   "execution_count": 109,
   "id": "a64a14d9",
   "metadata": {},
   "outputs": [
    {
     "data": {
      "text/html": [
       "<div>\n",
       "<style scoped>\n",
       "    .dataframe tbody tr th:only-of-type {\n",
       "        vertical-align: middle;\n",
       "    }\n",
       "\n",
       "    .dataframe tbody tr th {\n",
       "        vertical-align: top;\n",
       "    }\n",
       "\n",
       "    .dataframe thead th {\n",
       "        text-align: right;\n",
       "    }\n",
       "</style>\n",
       "<table border=\"1\" class=\"dataframe\">\n",
       "  <thead>\n",
       "    <tr style=\"text-align: right;\">\n",
       "      <th></th>\n",
       "      <th>Loan_ID</th>\n",
       "      <th>Gender</th>\n",
       "      <th>Married</th>\n",
       "      <th>Dependents</th>\n",
       "      <th>Education</th>\n",
       "      <th>Self_Employed</th>\n",
       "      <th>ApplicantIncome</th>\n",
       "      <th>CoapplicantIncome</th>\n",
       "      <th>LoanAmount</th>\n",
       "      <th>Loan_Amount_Term</th>\n",
       "      <th>Credit_History</th>\n",
       "      <th>Property_Area</th>\n",
       "      <th>Loan_Status</th>\n",
       "    </tr>\n",
       "  </thead>\n",
       "  <tbody>\n",
       "    <tr>\n",
       "      <th>0</th>\n",
       "      <td>LP001002</td>\n",
       "      <td>1</td>\n",
       "      <td>0</td>\n",
       "      <td>0</td>\n",
       "      <td>1</td>\n",
       "      <td>0</td>\n",
       "      <td>5849</td>\n",
       "      <td>0.0</td>\n",
       "      <td>146.412162</td>\n",
       "      <td>360.0</td>\n",
       "      <td>1.0</td>\n",
       "      <td>2</td>\n",
       "      <td>1</td>\n",
       "    </tr>\n",
       "    <tr>\n",
       "      <th>1</th>\n",
       "      <td>LP001003</td>\n",
       "      <td>1</td>\n",
       "      <td>1</td>\n",
       "      <td>1</td>\n",
       "      <td>1</td>\n",
       "      <td>0</td>\n",
       "      <td>4583</td>\n",
       "      <td>1508.0</td>\n",
       "      <td>128.000000</td>\n",
       "      <td>360.0</td>\n",
       "      <td>1.0</td>\n",
       "      <td>0</td>\n",
       "      <td>0</td>\n",
       "    </tr>\n",
       "    <tr>\n",
       "      <th>2</th>\n",
       "      <td>LP001005</td>\n",
       "      <td>1</td>\n",
       "      <td>1</td>\n",
       "      <td>0</td>\n",
       "      <td>1</td>\n",
       "      <td>1</td>\n",
       "      <td>3000</td>\n",
       "      <td>0.0</td>\n",
       "      <td>66.000000</td>\n",
       "      <td>360.0</td>\n",
       "      <td>1.0</td>\n",
       "      <td>2</td>\n",
       "      <td>1</td>\n",
       "    </tr>\n",
       "    <tr>\n",
       "      <th>3</th>\n",
       "      <td>LP001006</td>\n",
       "      <td>1</td>\n",
       "      <td>1</td>\n",
       "      <td>0</td>\n",
       "      <td>0</td>\n",
       "      <td>0</td>\n",
       "      <td>2583</td>\n",
       "      <td>2358.0</td>\n",
       "      <td>120.000000</td>\n",
       "      <td>360.0</td>\n",
       "      <td>1.0</td>\n",
       "      <td>2</td>\n",
       "      <td>1</td>\n",
       "    </tr>\n",
       "    <tr>\n",
       "      <th>4</th>\n",
       "      <td>LP001008</td>\n",
       "      <td>1</td>\n",
       "      <td>0</td>\n",
       "      <td>0</td>\n",
       "      <td>1</td>\n",
       "      <td>0</td>\n",
       "      <td>6000</td>\n",
       "      <td>0.0</td>\n",
       "      <td>141.000000</td>\n",
       "      <td>360.0</td>\n",
       "      <td>1.0</td>\n",
       "      <td>2</td>\n",
       "      <td>1</td>\n",
       "    </tr>\n",
       "  </tbody>\n",
       "</table>\n",
       "</div>"
      ],
      "text/plain": [
       "    Loan_ID  Gender  Married  Dependents  Education  Self_Employed  \\\n",
       "0  LP001002       1        0           0          1              0   \n",
       "1  LP001003       1        1           1          1              0   \n",
       "2  LP001005       1        1           0          1              1   \n",
       "3  LP001006       1        1           0          0              0   \n",
       "4  LP001008       1        0           0          1              0   \n",
       "\n",
       "   ApplicantIncome  CoapplicantIncome  LoanAmount  Loan_Amount_Term  \\\n",
       "0             5849                0.0  146.412162             360.0   \n",
       "1             4583             1508.0  128.000000             360.0   \n",
       "2             3000                0.0   66.000000             360.0   \n",
       "3             2583             2358.0  120.000000             360.0   \n",
       "4             6000                0.0  141.000000             360.0   \n",
       "\n",
       "   Credit_History  Property_Area  Loan_Status  \n",
       "0             1.0              2            1  \n",
       "1             1.0              0            0  \n",
       "2             1.0              2            1  \n",
       "3             1.0              2            1  \n",
       "4             1.0              2            1  "
      ]
     },
     "execution_count": 109,
     "metadata": {},
     "output_type": "execute_result"
    }
   ],
   "source": [
    "data.head()"
   ]
  },
  {
   "cell_type": "code",
   "execution_count": 110,
   "id": "4ef7c49a",
   "metadata": {},
   "outputs": [
    {
     "data": {
      "text/plain": [
       "<AxesSubplot:xlabel='LoanAmount'>"
      ]
     },
     "execution_count": 110,
     "metadata": {},
     "output_type": "execute_result"
    },
    {
     "data": {
      "image/png": "[encoded data removed]",
      "text/plain": [
       "<Figure size 432x288 with 1 Axes>"
      ]
     },
     "metadata": {
      "needs_background": "light"
     },
     "output_type": "display_data"
    }
   ],
   "source": [
    "sns.boxplot(data['LoanAmount'])"
   ]
  },
  {
   "cell_type": "code",
   "execution_count": 111,
   "id": "911535bf",
   "metadata": {},
   "outputs": [
    {
     "data": {
      "text/plain": [
       "<AxesSubplot:xlabel='ApplicantIncome'>"
      ]
     },
     "execution_count": 111,
     "metadata": {},
     "output_type": "execute_result"
    },
    {
     "data": {
      "image/png": "[encoded data removed]",
      "text/plain": [
       "<Figure size 432x288 with 1 Axes>"
      ]
     },
     "metadata": {
      "needs_background": "light"
     },
     "output_type": "display_data"
    }
   ],
   "source": [
    "sns.boxplot(data['ApplicantIncome'])"
   ]
  },
  {
   "cell_type": "code",
   "execution_count": 112,
   "id": "7bf13a43",
   "metadata": {},
   "outputs": [
    {
     "data": {
      "text/plain": [
       "<AxesSubplot:xlabel='CoapplicantIncome'>"
      ]
     },
     "execution_count": 112,
     "metadata": {},
     "output_type": "execute_result"
    },
    {
     "data": {
      "image/png": "[encoded data removed]",
      "text/plain": [
       "<Figure size 432x288 with 1 Axes>"
      ]
     },
     "metadata": {
      "needs_background": "light"
     },
     "output_type": "display_data"
    }
   ],
   "source": [
    "sns.boxplot(data['CoapplicantIncome'])"
   ]
  },
  {
   "cell_type": "code",
   "execution_count": 113,
   "id": "b68eddf6",
   "metadata": {},
   "outputs": [
    {
     "data": {
      "text/plain": [
       "<AxesSubplot:xlabel='Loan_Amount_Term'>"
      ]
     },
     "execution_count": 113,
     "metadata": {},
     "output_type": "execute_result"
    },
    {
     "data": {
      "image/png": "[encoded data removed]",
      "text/plain": [
       "<Figure size 432x288 with 1 Axes>"
      ]
     },
     "metadata": {
      "needs_background": "light"
     },
     "output_type": "display_data"
    }
   ],
   "source": [
    "sns.boxplot(data['Loan_Amount_Term'])"
   ]
  },
  {
   "cell_type": "code",
   "execution_count": 114,
   "id": "45f313b7",
   "metadata": {},
   "outputs": [],
   "source": [
    "Q1=data['LoanAmount'].quantile(.25)\n",
    "Q3=data['LoanAmount'].quantile(.75)\n",
    "IQR=Q3-Q1\n",
    "lower_limit=Q1-1.5*IQR\n",
    "upper_limit=Q3+1.5*IQR"
   ]
  },
  {
   "cell_type": "code",
   "execution_count": 115,
   "id": "73dfcc3b",
   "metadata": {},
   "outputs": [],
   "source": [
    "data['LoanAmount']=np.where(data['LoanAmount']>upper_limit,upper_limit,\n",
    "                              np.where(data['LoanAmount']<lower_limit,\n",
    "                                       lower_limit,\n",
    "                              data['LoanAmount'])\n",
    "                             )"
   ]
  },
  {
   "cell_type": "code",
   "execution_count": 116,
   "id": "78b660ea",
   "metadata": {},
   "outputs": [],
   "source": [
    "Q1=data['ApplicantIncome'].quantile(.25)\n",
    "Q3=data['ApplicantIncome'].quantile(.75)\n",
    "IQR=Q3-Q1\n",
    "lower_limit=Q1-1.5*IQR\n",
    "upper_limit=Q3+1.5*IQR"
   ]
  },
  {
   "cell_type": "code",
   "execution_count": 117,
   "id": "f3b4dd51",
   "metadata": {},
   "outputs": [],
   "source": [
    "data['ApplicantIncome']=np.where(data['ApplicantIncome']>upper_limit,upper_limit,\n",
    "                              np.where(data['ApplicantIncome']<lower_limit,\n",
    "                                       lower_limit,\n",
    "                              data['ApplicantIncome'])\n",
    "                             )"
   ]
  },
  {
   "cell_type": "code",
   "execution_count": 118,
   "id": "7fee41e3",
   "metadata": {},
   "outputs": [],
   "source": [
    "Q1=data['CoapplicantIncome'].quantile(.25)\n",
    "Q3=data['CoapplicantIncome'].quantile(.75)\n",
    "IQR=Q3-Q1\n",
    "lower_limit=Q1-1.5*IQR\n",
    "upper_limit=Q3+1.5*IQR"
   ]
  },
  {
   "cell_type": "code",
   "execution_count": 119,
   "id": "dfdf17f0",
   "metadata": {},
   "outputs": [],
   "source": [
    "data['CoapplicantIncome']=np.where(data['CoapplicantIncome']>upper_limit,upper_limit,\n",
    "                              np.where(data['CoapplicantIncome']<lower_limit,\n",
    "                                       lower_limit,\n",
    "                              data['CoapplicantIncome'])\n",
    "                             )"
   ]
  },
  {
   "cell_type": "code",
   "execution_count": 120,
   "id": "d0df4e37",
   "metadata": {},
   "outputs": [],
   "source": [
    "Q1=data['Loan_Amount_Term'].quantile(.25)\n",
    "Q3=data['Loan_Amount_Term'].quantile(.75)\n",
    "IQR=Q3-Q1\n",
    "lower_limit=Q1-1.5*IQR\n",
    "upper_limit=Q3+1.5*IQR"
   ]
  },
  {
   "cell_type": "code",
   "execution_count": 121,
   "id": "8cca667d",
   "metadata": {},
   "outputs": [],
   "source": [
    "data['Loan_Amount_Term']=np.where(data['Loan_Amount_Term']>upper_limit,upper_limit,\n",
    "                              np.where(data['Loan_Amount_Term']<lower_limit,\n",
    "                                       lower_limit,\n",
    "                              data['Loan_Amount_Term'])\n",
    "                             )"
   ]
  },
  {
   "cell_type": "code",
   "execution_count": 122,
   "id": "f972476f",
   "metadata": {},
   "outputs": [
    {
     "data": {
      "text/plain": [
       "<AxesSubplot:xlabel='LoanAmount'>"
      ]
     },
     "execution_count": 122,
     "metadata": {},
     "output_type": "execute_result"
    },
    {
     "data": {
      "image/png": "[encoded data removed]",
      "text/plain": [
       "<Figure size 432x288 with 1 Axes>"
      ]
     },
     "metadata": {
      "needs_background": "light"
     },
     "output_type": "display_data"
    }
   ],
   "source": [
    "sns.boxplot(data['LoanAmount'])"
   ]
  },
  {
   "cell_type": "code",
   "execution_count": 123,
   "id": "10de7738",
   "metadata": {},
   "outputs": [
    {
     "data": {
      "text/plain": [
       "<AxesSubplot:xlabel='ApplicantIncome'>"
      ]
     },
     "execution_count": 123,
     "metadata": {},
     "output_type": "execute_result"
    },
    {
     "data": {
      "image/png": "[encoded data removed]",
      "text/plain": [
       "<Figure size 432x288 with 1 Axes>"
      ]
     },
     "metadata": {
      "needs_background": "light"
     },
     "output_type": "display_data"
    }
   ],
   "source": [
    "sns.boxplot(data['ApplicantIncome'])"
   ]
  },
  {
   "cell_type": "code",
   "execution_count": 124,
   "id": "4207a36d",
   "metadata": {},
   "outputs": [
    {
     "data": {
      "text/plain": [
       "<AxesSubplot:xlabel='CoapplicantIncome'>"
      ]
     },
     "execution_count": 124,
     "metadata": {},
     "output_type": "execute_result"
    },
    {
     "data": {
      "image/png": "[encoded data removed]",
      "text/plain": [
       "<Figure size 432x288 with 1 Axes>"
      ]
     },
     "metadata": {
      "needs_background": "light"
     },
     "output_type": "display_data"
    }
   ],
   "source": [
    "sns.boxplot(data['CoapplicantIncome'])"
   ]
  },
  {
   "cell_type": "code",
   "execution_count": 125,
   "id": "d0ce9308",
   "metadata": {},
   "outputs": [
    {
     "data": {
      "text/plain": [
       "<AxesSubplot:xlabel='Loan_Amount_Term'>"
      ]
     },
     "execution_count": 125,
     "metadata": {},
     "output_type": "execute_result"
    },
    {
     "data": {
      "image/png": "[encoded data removed]",
      "text/plain": [
       "<Figure size 432x288 with 1 Axes>"
      ]
     },
     "metadata": {
      "needs_background": "light"
     },
     "output_type": "display_data"
    }
   ],
   "source": [
    "sns.boxplot(data['Loan_Amount_Term'])"
   ]
  },
  {
   "cell_type": "code",
   "execution_count": 126,
   "id": "96b36814",
   "metadata": {},
   "outputs": [
    {
     "data": {
      "image/png": "[encoded data removed]",
      "text/plain": [
       "<Figure size 1008x432 with 2 Axes>"
      ]
     },
     "metadata": {
      "needs_background": "light"
     },
     "output_type": "display_data"
    }
   ],
   "source": [
    "plt.figure(figsize=(14,6))\n",
    "sns.heatmap(data.corr(),vmin=-1,vmax=1,annot=True)\n",
    "plt.show()"
   ]
  },
  {
   "cell_type": "code",
   "execution_count": 127,
   "id": "6d47bf53",
   "metadata": {},
   "outputs": [],
   "source": [
    "from sklearn.preprocessing import StandardScaler"
   ]
  },
  {
   "cell_type": "code",
   "execution_count": 128,
   "id": "a5f11325",
   "metadata": {},
   "outputs": [],
   "source": [
    "x=data.drop(columns=['Loan_Status','Loan_ID'],axis=1)\n",
    "y=data['Loan_Status']"
   ]
  },
  {
   "cell_type": "code",
   "execution_count": 129,
   "id": "12c85f0a",
   "metadata": {},
   "outputs": [],
   "source": [
    "from sklearn.model_selection import train_test_split,cross_val_score,GridSearchCV"
   ]
  },
  {
   "cell_type": "code",
   "execution_count": 130,
   "id": "f70b6fff",
   "metadata": {},
   "outputs": [],
   "source": [
    "x_train,x_test,y_train,y_test=train_test_split(x,y,test_size=0.30,random_state=55)"
   ]
  },
  {
   "cell_type": "code",
   "execution_count": 182,
   "id": "fc8c4327",
   "metadata": {},
   "outputs": [],
   "source": [
    "from sklearn.linear_model import LogisticRegression"
   ]
  },
  {
   "cell_type": "code",
   "execution_count": 224,
   "id": "35d0d770",
   "metadata": {},
   "outputs": [],
   "source": [
    "lr=LogisticRegression()"
   ]
  },
  {
   "cell_type": "code",
   "execution_count": 225,
   "id": "9468686e",
   "metadata": {},
   "outputs": [
    {
     "data": {
      "text/plain": [
       "LogisticRegression()"
      ]
     },
     "execution_count": 225,
     "metadata": {},
     "output_type": "execute_result"
    }
   ],
   "source": [
    "lr.fit(x_train,y_train)"
   ]
  },
  {
   "cell_type": "code",
   "execution_count": 226,
   "id": "023e38fa",
   "metadata": {},
   "outputs": [],
   "source": [
    "lr_pred=lr.predict(x_test)"
   ]
  },
  {
   "cell_type": "code",
   "execution_count": 186,
   "id": "69bdbb0e",
   "metadata": {},
   "outputs": [],
   "source": [
    "from sklearn.metrics import accuracy_score,confusion_matrix,roc_curve,roc_auc_score,classification_report,plot_roc_curve"
   ]
  },
  {
   "cell_type": "code",
   "execution_count": 187,
   "id": "0798944f",
   "metadata": {},
   "outputs": [
    {
     "data": {
      "text/plain": [
       "0.803680981595092"
      ]
     },
     "execution_count": 187,
     "metadata": {},
     "output_type": "execute_result"
    }
   ],
   "source": [
    "accuracy=accuracy_score(y_test,lr_pred)\n",
    "accuracy"
   ]
  },
  {
   "cell_type": "code",
   "execution_count": 188,
   "id": "6965bb49",
   "metadata": {},
   "outputs": [
    {
     "data": {
      "text/plain": [
       "0.7970778117567108"
      ]
     },
     "execution_count": 188,
     "metadata": {},
     "output_type": "execute_result"
    }
   ],
   "source": [
    "lr_cross_score=cross_val_score(lr,x,y,cv=5,scoring='accuracy').mean()\n",
    "lr_cross_score"
   ]
  },
  {
   "cell_type": "code",
   "execution_count": 189,
   "id": "ca09fc0c",
   "metadata": {},
   "outputs": [],
   "source": [
    "from sklearn.neighbors import KNeighborsClassifier"
   ]
  },
  {
   "cell_type": "code",
   "execution_count": 190,
   "id": "10d8dccd",
   "metadata": {},
   "outputs": [],
   "source": [
    "knn=KNeighborsClassifier()"
   ]
  },
  {
   "cell_type": "code",
   "execution_count": 191,
   "id": "9a80ac2b",
   "metadata": {},
   "outputs": [
    {
     "data": {
      "text/plain": [
       "KNeighborsClassifier()"
      ]
     },
     "execution_count": 191,
     "metadata": {},
     "output_type": "execute_result"
    }
   ],
   "source": [
    "knn.fit(x_train,y_train)"
   ]
  },
  {
   "cell_type": "code",
   "execution_count": 192,
   "id": "a51f751e",
   "metadata": {},
   "outputs": [],
   "source": [
    "knn_pred=knn.predict(x_test)"
   ]
  },
  {
   "cell_type": "code",
   "execution_count": 193,
   "id": "91534ae1",
   "metadata": {},
   "outputs": [
    {
     "data": {
      "text/plain": [
       "0.5950920245398773"
      ]
     },
     "execution_count": 193,
     "metadata": {},
     "output_type": "execute_result"
    }
   ],
   "source": [
    "accuracy=accuracy_score(y_test,knn_pred)\n",
    "accuracy"
   ]
  },
  {
   "cell_type": "code",
   "execution_count": 194,
   "id": "4d9116a3",
   "metadata": {},
   "outputs": [
    {
     "data": {
      "text/plain": [
       "0.6383112470268434"
      ]
     },
     "execution_count": 194,
     "metadata": {},
     "output_type": "execute_result"
    }
   ],
   "source": [
    "knn_cross_score=cross_val_score(knn,x,y,cv=5,scoring='accuracy').mean()\n",
    "knn_cross_score"
   ]
  },
  {
   "cell_type": "code",
   "execution_count": 195,
   "id": "a79d31dc",
   "metadata": {},
   "outputs": [],
   "source": [
    "from sklearn.svm import SVC"
   ]
  },
  {
   "cell_type": "code",
   "execution_count": 196,
   "id": "33e18c96",
   "metadata": {},
   "outputs": [],
   "source": [
    "svc=SVC()"
   ]
  },
  {
   "cell_type": "code",
   "execution_count": 197,
   "id": "b1c213b7",
   "metadata": {},
   "outputs": [
    {
     "data": {
      "text/plain": [
       "SVC()"
      ]
     },
     "execution_count": 197,
     "metadata": {},
     "output_type": "execute_result"
    }
   ],
   "source": [
    "svc.fit(x_train,y_train)"
   ]
  },
  {
   "cell_type": "code",
   "execution_count": 198,
   "id": "ff386174",
   "metadata": {},
   "outputs": [],
   "source": [
    "svc_pred=svc.predict(x_test)"
   ]
  },
  {
   "cell_type": "code",
   "execution_count": 199,
   "id": "8aa5e592",
   "metadata": {},
   "outputs": [
    {
     "data": {
      "text/plain": [
       "0.6625766871165644"
      ]
     },
     "execution_count": 199,
     "metadata": {},
     "output_type": "execute_result"
    }
   ],
   "source": [
    "accuracy=accuracy_score(y_test,svc_pred)\n",
    "accuracy"
   ]
  },
  {
   "cell_type": "code",
   "execution_count": 200,
   "id": "6dc2e8c2",
   "metadata": {},
   "outputs": [
    {
     "data": {
      "text/plain": [
       "0.693730886850153"
      ]
     },
     "execution_count": 200,
     "metadata": {},
     "output_type": "execute_result"
    }
   ],
   "source": [
    "svc_cross_score=cross_val_score(svc,x,y,cv=5,scoring='accuracy').mean()\n",
    "svc_cross_score"
   ]
  },
  {
   "cell_type": "code",
   "execution_count": 201,
   "id": "43cb90d3",
   "metadata": {},
   "outputs": [],
   "source": [
    "from sklearn.tree import DecisionTreeClassifier"
   ]
  },
  {
   "cell_type": "code",
   "execution_count": 202,
   "id": "3f7e64c2",
   "metadata": {},
   "outputs": [],
   "source": [
    "dt=DecisionTreeClassifier()"
   ]
  },
  {
   "cell_type": "code",
   "execution_count": 203,
   "id": "a37db2fc",
   "metadata": {},
   "outputs": [
    {
     "data": {
      "text/plain": [
       "DecisionTreeClassifier()"
      ]
     },
     "execution_count": 203,
     "metadata": {},
     "output_type": "execute_result"
    }
   ],
   "source": [
    "dt.fit(x_train,y_train)"
   ]
  },
  {
   "cell_type": "code",
   "execution_count": 204,
   "id": "0a3dd3b2",
   "metadata": {},
   "outputs": [],
   "source": [
    "dt_pred=dt.predict(x_test)"
   ]
  },
  {
   "cell_type": "code",
   "execution_count": 205,
   "id": "b8620fe9",
   "metadata": {},
   "outputs": [
    {
     "data": {
      "text/plain": [
       "0.7239263803680982"
      ]
     },
     "execution_count": 205,
     "metadata": {},
     "output_type": "execute_result"
    }
   ],
   "source": [
    "accuracy=accuracy_score(y_test,dt_pred)\n",
    "accuracy"
   ]
  },
  {
   "cell_type": "code",
   "execution_count": 206,
   "id": "d57fa839",
   "metadata": {},
   "outputs": [
    {
     "data": {
      "text/plain": [
       "0.67353041114509"
      ]
     },
     "execution_count": 206,
     "metadata": {},
     "output_type": "execute_result"
    }
   ],
   "source": [
    "dt_cross_score=cross_val_score(dt,x,y,cv=5,scoring='accuracy').mean()\n",
    "dt_cross_score"
   ]
  },
  {
   "cell_type": "code",
   "execution_count": 207,
   "id": "771a1e43",
   "metadata": {},
   "outputs": [],
   "source": [
    "from sklearn.ensemble import RandomForestClassifier"
   ]
  },
  {
   "cell_type": "code",
   "execution_count": 208,
   "id": "1e6b1ac7",
   "metadata": {},
   "outputs": [],
   "source": [
    "rf=RandomForestClassifier()"
   ]
  },
  {
   "cell_type": "code",
   "execution_count": 209,
   "id": "e7afbc3b",
   "metadata": {},
   "outputs": [
    {
     "data": {
      "text/plain": [
       "RandomForestClassifier()"
      ]
     },
     "execution_count": 209,
     "metadata": {},
     "output_type": "execute_result"
    }
   ],
   "source": [
    "rf.fit(x_train,y_train)"
   ]
  },
  {
   "cell_type": "code",
   "execution_count": 210,
   "id": "1c531417",
   "metadata": {},
   "outputs": [],
   "source": [
    "rf_pred=rf.predict(x_test)"
   ]
  },
  {
   "cell_type": "code",
   "execution_count": 211,
   "id": "f84310a0",
   "metadata": {},
   "outputs": [
    {
     "data": {
      "text/plain": [
       "0.8220858895705522"
      ]
     },
     "execution_count": 211,
     "metadata": {},
     "output_type": "execute_result"
    }
   ],
   "source": [
    "accuracy=accuracy_score(y_test,rf_pred)\n",
    "accuracy"
   ]
  },
  {
   "cell_type": "code",
   "execution_count": 212,
   "id": "963d86c0",
   "metadata": {},
   "outputs": [
    {
     "data": {
      "text/plain": [
       "0.7749405368671425"
      ]
     },
     "execution_count": 212,
     "metadata": {},
     "output_type": "execute_result"
    }
   ],
   "source": [
    "rf_cross_score=cross_val_score(rf,x,y,cv=5,scoring='accuracy').mean()\n",
    "rf_cross_score"
   ]
  },
  {
   "cell_type": "code",
   "execution_count": 213,
   "id": "339a81c7",
   "metadata": {},
   "outputs": [
    {
     "data": {
      "text/plain": [
       "GridSearchCV(cv=5, estimator=LogisticRegression(), n_jobs=-1,\n",
       "             param_grid=[{'C': array([1.00000000e-04, 2.63665090e-04, 6.95192796e-04, 1.83298071e-03,\n",
       "       4.83293024e-03, 1.27427499e-02, 3.35981829e-02, 8.85866790e-02,\n",
       "       2.33572147e-01, 6.15848211e-01, 1.62377674e+00, 4.28133240e+00,\n",
       "       1.12883789e+01, 2.97635144e+01, 7.84759970e+01, 2.06913808e+02,\n",
       "       5.45559478e+02, 1.43844989e+03, 3.79269019e+03, 1.00000000e+04]),\n",
       "                          'max_iter': [100, 200, 300, 400],\n",
       "                          'penalty': ['l1', 'l2', 'elasticnet', 'none'],\n",
       "                          'solver': ['newton-cg', 'lbfgs', 'liblinear', 'sag',\n",
       "                                     'saga']}])"
      ]
     },
     "execution_count": 213,
     "metadata": {},
     "output_type": "execute_result"
    }
   ],
   "source": [
    "# using Hypertunning parameter\n",
    "lr=LogisticRegression()\n",
    "\n",
    "params=[{'penalty':['l1', 'l2', 'elasticnet', 'none'],\n",
    "        'C':np.logspace(-4,4,20),\n",
    "       'solver':['newton-cg', 'lbfgs', 'liblinear', 'sag', 'saga'],\n",
    "        'max_iter':[100,200,300,400]}\n",
    "       ]\n",
    "\n",
    "grd=GridSearchCV(lr,param_grid=params,cv=5,n_jobs=-1)\n",
    "grd.fit(x_train,y_train)"
   ]
  },
  {
   "cell_type": "code",
   "execution_count": 214,
   "id": "7a737899",
   "metadata": {},
   "outputs": [
    {
     "name": "stdout",
     "output_type": "stream",
     "text": [
      "{'C': 0.23357214690901212, 'max_iter': 100, 'penalty': 'l1', 'solver': 'liblinear'}\n"
     ]
    }
   ],
   "source": [
    "best_parameters=grd.best_params_\n",
    "print(best_parameters)"
   ]
  },
  {
   "cell_type": "code",
   "execution_count": 215,
   "id": "95542805",
   "metadata": {},
   "outputs": [
    {
     "data": {
      "text/plain": [
       "0.8022105263157895"
      ]
     },
     "execution_count": 215,
     "metadata": {},
     "output_type": "execute_result"
    }
   ],
   "source": [
    "grd.best_score_"
   ]
  },
  {
   "cell_type": "code",
   "execution_count": 216,
   "id": "69ae9b10",
   "metadata": {},
   "outputs": [
    {
     "name": "stdout",
     "output_type": "stream",
     "text": [
      "              precision    recall  f1-score   support\n",
      "\n",
      "           0       0.87      0.49      0.63        55\n",
      "           1       0.79      0.96      0.87       108\n",
      "\n",
      "    accuracy                           0.80       163\n",
      "   macro avg       0.83      0.73      0.75       163\n",
      "weighted avg       0.82      0.80      0.79       163\n",
      "\n"
     ]
    }
   ],
   "source": [
    "print(classification_report(y_test,lr_pred))"
   ]
  },
  {
   "cell_type": "code",
   "execution_count": 217,
   "id": "25ef5e84",
   "metadata": {},
   "outputs": [],
   "source": [
    "from sklearn.metrics import roc_curve,roc_auc_score"
   ]
  },
  {
   "cell_type": "code",
   "execution_count": 218,
   "id": "976f2eca",
   "metadata": {},
   "outputs": [
    {
     "data": {
      "text/plain": [
       "0.7269360269360269"
      ]
     },
     "execution_count": 218,
     "metadata": {},
     "output_type": "execute_result"
    }
   ],
   "source": [
    "roc_auc_score(y_test,lr_pred)"
   ]
  },
  {
   "cell_type": "code",
   "execution_count": 219,
   "id": "9598a5ec",
   "metadata": {},
   "outputs": [
    {
     "data": {
      "text/plain": [
       "0.4847643097643098"
      ]
     },
     "execution_count": 219,
     "metadata": {},
     "output_type": "execute_result"
    }
   ],
   "source": [
    "roc_auc_score(y_test,knn_pred)"
   ]
  },
  {
   "cell_type": "code",
   "execution_count": 220,
   "id": "8d442a5a",
   "metadata": {},
   "outputs": [
    {
     "data": {
      "text/plain": [
       "0.5"
      ]
     },
     "execution_count": 220,
     "metadata": {},
     "output_type": "execute_result"
    }
   ],
   "source": [
    "roc_auc_score(y_test,svc_pred)"
   ]
  },
  {
   "cell_type": "code",
   "execution_count": 221,
   "id": "2ab99203",
   "metadata": {},
   "outputs": [
    {
     "data": {
      "text/plain": [
       "0.7069023569023569"
      ]
     },
     "execution_count": 221,
     "metadata": {},
     "output_type": "execute_result"
    }
   ],
   "source": [
    "roc_auc_score(y_test,dt_pred)"
   ]
  },
  {
   "cell_type": "code",
   "execution_count": 222,
   "id": "5428afdf",
   "metadata": {},
   "outputs": [
    {
     "data": {
      "text/plain": [
       "0.7631313131313131"
      ]
     },
     "execution_count": 222,
     "metadata": {},
     "output_type": "execute_result"
    }
   ],
   "source": [
    "roc_auc_score(y_test,rf_pred)"
   ]
  },
  {
   "cell_type": "code",
   "execution_count": 227,
   "id": "3d663f84",
   "metadata": {},
   "outputs": [
    {
     "data": {
      "image/png": "[encoded data removed]",
      "text/plain": [
       "<Figure size 432x288 with 1 Axes>"
      ]
     },
     "metadata": {
      "needs_background": "light"
     },
     "output_type": "display_data"
    }
   ],
   "source": [
    "disp=plot_roc_curve(dt,x_test,y_test)\n",
    "plot_roc_curve(lr,x_test,y_test,ax=disp.ax_)\n",
    "plot_roc_curve(knn,x_test,y_test,ax=disp.ax_)\n",
    "plot_roc_curve(svc,x_test,y_test,ax=disp.ax_)\n",
    "plot_roc_curve(rf,x_test,y_test,ax=disp.ax_)\n",
    "plt.legend(prop={'size':8},loc='lower right')\n",
    "plt.show()"
   ]
  },
  {
   "cell_type": "code",
   "execution_count": null,
   "id": "82d659c5",
   "metadata": {},
   "outputs": [],
   "source": []
  }
 ],
 "metadata": {
  "kernelspec": {
   "display_name": "Python 3",
   "language": "python",
   "name": "python3"
  },
  "language_info": {
   "codemirror_mode": {
    "name": "ipython",
    "version": 3
   },
   "file_extension": ".py",
   "mimetype": "text/x-python",
   "name": "python",
   "nbconvert_exporter": "python",
   "pygments_lexer": "ipython3",
   "version": "3.8.8"
  }
 },
 "nbformat": 4,
 "nbformat_minor": 5
}
